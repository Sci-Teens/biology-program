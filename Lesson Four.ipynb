{
 "cells": [
  {
   "cell_type": "markdown",
   "metadata": {},
   "source": [
    "## Introduction to Statistical Testing\n",
    "You did it! You made it to week four. We've saved one of the best (and hardest) lessons for last. This lesson will cover statistical testing within Jupyter Notebooks. "
   ]
  },
  {
   "cell_type": "markdown",
   "metadata": {},
   "source": [
    "## Importing Packages\n",
    "Let's go ahead and import the necessary packages. Again, we'll go ahead and import Numpy and Pandas. This time around, we'll also be importing **SciPy**. SciPy, short for Scientific Python is a package that allows us to use scientific and mathematic tools for working with data. It works extremely well with Pandas and NumPy since it was created by the same developers. Speficically, we'll be importing the **subpackage** stats from SciPy. All a subpackage is is a package within another package. We'll import the SciPy package, and you can try importing Pandas and Matplotlib yourself below. "
   ]
  },
  {
   "cell_type": "code",
   "execution_count": 1,
   "metadata": {},
   "outputs": [],
   "source": [
    "from scipy import stats \n",
    "\n",
    "# TODO: Import pandas (with the alias pd)\n",
    "import pandas as pd\n",
    "import matplotlib.pyplot as plt\n",
    "\n",
    "%matplotlib inline"
   ]
  },
  {
   "cell_type": "markdown",
   "metadata": {},
   "source": [
    "## Getting our Data\n",
    "For this lesson, we'll be working with two different scientific datasets. The first dataset contains daily temperatures recorded in Florida and Colorado. The second dataset contains the daily temperature and humidity  recorded in Florida only. This data comes from NEON, where all of the other data that you have worked with thus far comes from as well! Interestingly enough, the Florida data that we'll be working with today comes from the NEON DSNY site, which is located in Disney! Check out the links for more information on the [DSNY](https://www.neonscience.org/field-sites/field-sites-map/DSNY) site or the [CPER](https://www.neonscience.org/field-sites/field-sites-map/CPER) site. "
   ]
  },
  {
   "cell_type": "code",
   "execution_count": 2,
   "metadata": {},
   "outputs": [],
   "source": [
    "temperature_data = pd.read_csv('data/temperatureData.csv')\n",
    "humidity_data = pd.read_csv('data/humidityData.csv')"
   ]
  },
  {
   "cell_type": "markdown",
   "metadata": {},
   "source": [
    "## Mean Tests\n",
    "**Mean Tests** allow us to test whether the means of one or more data columns are different or the same. Let's examine the first five values from our `temperature_data` dataframe "
   ]
  },
  {
   "cell_type": "code",
   "execution_count": 3,
   "metadata": {},
   "outputs": [],
   "source": [
    "# TODO: Examine first five values in the temperature_data dataframe\n"
   ]
  },
  {
   "cell_type": "markdown",
   "metadata": {},
   "source": [
    "As you can see, we have the date and time in one column, the DSNY site temperature (in degrees Celsius) in the second column, and the CPER site temperature (in degrees Celsius) in the last column. Say we wanted to determine whether the mean temperatures over the course of the year differed for the two sites. We could use a **T-test** to examine whether there is a **statistically significant** difference in the mean yearly temperatures for the two sites. Try examining the mean of the DSNY data, and the mean of the CPER data below"
   ]
  },
  {
   "cell_type": "code",
   "execution_count": 4,
   "metadata": {},
   "outputs": [],
   "source": [
    "# TODO: Get the mean temperature at DSNY\n"
   ]
  },
  {
   "cell_type": "code",
   "execution_count": 5,
   "metadata": {},
   "outputs": [],
   "source": [
    "# TODO: Get the mean temperature at CPER\n"
   ]
  },
  {
   "cell_type": "markdown",
   "metadata": {},
   "source": [
    "For now, let's try plotting a histogram for the temperatures of the two sites. We'll plot them on the same plot, and use `alpha=0.5` such that we can see the data on top of one another. Furthermore, we'll use `plt.legend()` to label which color corresponds to which dataset. After running the code below, try adding axis labels and a title to say what the data is showing."
   ]
  },
  {
   "cell_type": "code",
   "execution_count": 6,
   "metadata": {},
   "outputs": [
    {
     "data": {
      "image/png": "[encoded data removed]",
      "text/plain": [
       "<Figure size 432x288 with 1 Axes>"
      ]
     },
     "metadata": {
      "needs_background": "light"
     },
     "output_type": "display_data"
    }
   ],
   "source": [
    "plt.hist(temperature_data['dsnyTempTripleMean'], alpha=0.5)\n",
    "plt.hist(temperature_data['cperTempTripleMean'], alpha=0.5)\n",
    "plt.legend(['DSNY', 'CPER'])\n",
    "\n",
    "# TODO: add a title and axis labels\n",
    "\n",
    "plt.show()"
   ]
  },
  {
   "cell_type": "markdown",
   "metadata": {},
   "source": [
    "As you can see, the temperatures recorded at CPER and DSNY are pretty different throughout 2019. Even though our plot gives us a reason to believe that there is a significant difference in the mean temperature between DSNY and CPER, we have to use a T-test to confirm this. We can achieve this using the `stats.ttest_ind` method to conduct and independent t-test on our two data columns. \n",
    "\n",
    "**NOTE** you may have noticed the `equal_var=False` argument set below. This has to do with the **variance** of our data. Though we won't go much into the variance represents, you can think of it as describing how spread out our data is. As we can see from the histogram above, our data is not equally spread out (CPER is wider than DSNY), and thus, our data does not have equal variances. "
   ]
  },
  {
   "cell_type": "code",
   "execution_count": 7,
   "metadata": {},
   "outputs": [
    {
     "data": {
      "text/plain": [
       "Ttest_indResult(statistic=149.9077155298338, pvalue=0.0)"
      ]
     },
     "execution_count": 7,
     "metadata": {},
     "output_type": "execute_result"
    }
   ],
   "source": [
    "stats.ttest_ind(temperature_data['dsnyTempTripleMean'], temperature_data['cperTempTripleMean'], equal_var=False)"
   ]
  },
  {
   "cell_type": "markdown",
   "metadata": {},
   "source": [
    "As you can see, we got a p-value of 0. Well, not exactly; Python will always have some rounding error, especially for some very small numbers. Since there was a clear difference between the means of the two sites, the p-value is extremely small for our data. This means that we can **reject the null** hypothesis and say that the mean temperatures in Colorado at the CPER site and in Florida at the DSNY site are significantly different. "
   ]
  },
  {
   "cell_type": "markdown",
   "metadata": {},
   "source": [
    "## Correlation Testing"
   ]
  },
  {
   "cell_type": "markdown",
   "metadata": {},
   "source": [
    "The last type of statistical testing that we'll cover today is Correlation testing. This allows us to see how much of a relationship two data columns have. First, let's examine the last five values within our `humidity_data` dataset. "
   ]
  },
  {
   "cell_type": "code",
   "execution_count": 11,
   "metadata": {},
   "outputs": [
    {
     "data": {
      "text/html": [
       "<div>\n",
       "<style scoped>\n",
       "    .dataframe tbody tr th:only-of-type {\n",
       "        vertical-align: middle;\n",
       "    }\n",
       "\n",
       "    .dataframe tbody tr th {\n",
       "        vertical-align: top;\n",
       "    }\n",
       "\n",
       "    .dataframe thead th {\n",
       "        text-align: right;\n",
       "    }\n",
       "</style>\n",
       "<table border=\"1\" class=\"dataframe\">\n",
       "  <thead>\n",
       "    <tr style=\"text-align: right;\">\n",
       "      <th></th>\n",
       "      <th>Unnamed: 0</th>\n",
       "      <th>startDateTime</th>\n",
       "      <th>dsnyTempTripleMean</th>\n",
       "      <th>RHMean</th>\n",
       "    </tr>\n",
       "  </thead>\n",
       "  <tbody>\n",
       "    <tr>\n",
       "      <th>360</th>\n",
       "      <td>360</td>\n",
       "      <td>2019-12-27 12:00:00+00:00</td>\n",
       "      <td>19.9123</td>\n",
       "      <td>88.83</td>\n",
       "    </tr>\n",
       "    <tr>\n",
       "      <th>361</th>\n",
       "      <td>361</td>\n",
       "      <td>2019-12-28 12:00:00+00:00</td>\n",
       "      <td>20.5395</td>\n",
       "      <td>96.95</td>\n",
       "    </tr>\n",
       "    <tr>\n",
       "      <th>362</th>\n",
       "      <td>362</td>\n",
       "      <td>2019-12-29 12:00:00+00:00</td>\n",
       "      <td>21.7491</td>\n",
       "      <td>97.13</td>\n",
       "    </tr>\n",
       "    <tr>\n",
       "      <th>363</th>\n",
       "      <td>363</td>\n",
       "      <td>2019-12-30 12:00:00+00:00</td>\n",
       "      <td>21.3916</td>\n",
       "      <td>93.42</td>\n",
       "    </tr>\n",
       "    <tr>\n",
       "      <th>364</th>\n",
       "      <td>364</td>\n",
       "      <td>2019-12-31 12:00:00+00:00</td>\n",
       "      <td>14.2949</td>\n",
       "      <td>76.84</td>\n",
       "    </tr>\n",
       "  </tbody>\n",
       "</table>\n",
       "</div>"
      ],
      "text/plain": [
       "     Unnamed: 0              startDateTime  dsnyTempTripleMean  RHMean\n",
       "360         360  2019-12-27 12:00:00+00:00             19.9123   88.83\n",
       "361         361  2019-12-28 12:00:00+00:00             20.5395   96.95\n",
       "362         362  2019-12-29 12:00:00+00:00             21.7491   97.13\n",
       "363         363  2019-12-30 12:00:00+00:00             21.3916   93.42\n",
       "364         364  2019-12-31 12:00:00+00:00             14.2949   76.84"
      ]
     },
     "execution_count": 11,
     "metadata": {},
     "output_type": "execute_result"
    }
   ],
   "source": [
    "# TODO: Examine the last five values within the dataset \n",
    "humidity_data.tail()"
   ]
  },
  {
   "cell_type": "code",
   "execution_count": 13,
   "metadata": {},
   "outputs": [
    {
     "data": {
      "text/plain": [
       "<matplotlib.collections.PathCollection at 0x20a02e076d0>"
      ]
     },
     "execution_count": 13,
     "metadata": {},
     "output_type": "execute_result"
    },
    {
     "data": {
      "image/png": "[encoded data removed]",
      "text/plain": [
       "<Figure size 432x288 with 1 Axes>"
      ]
     },
     "metadata": {
      "needs_background": "light"
     },
     "output_type": "display_data"
    }
   ],
   "source": [
    "# TODO: Plot temperatures versus humidity on a single chart\n",
    "plt.scatter(humidity_data['dsnyTempTripleMean'], humidity_data['RHMean'])"
   ]
  },
  {
   "cell_type": "markdown",
   "metadata": {},
   "source": [
    "Unfortunately, we don't see must of a pattern with this data at all. The most apparent feature of this data is the **cluster** at the top right; this suggests that higher temps likely coencide with higher humidity values. As for the rest of the data, there's not really any clear cut evidence of a pattern. Let's use a correlation test to see if there is in fact a **linear relationship** between the data. We'll start with a **Pearson Correlation**, which simply measures whether or not there is a linear relationship between two data. A perfect, positive linear relationship would result in a **Correlation Coefficient** of 1, whereas a perfect negative linear relationship would result in a correlation coefficient of -1. Fortunately, Pandas already has a `corr()` method built in, so we don't even have to bother with using Scipy for this case. The code below will calculate the Pearson Correlation between the temperature and the relative humidity at DSNY. "
   ]
  },
  {
   "cell_type": "code",
   "execution_count": 14,
   "metadata": {},
   "outputs": [
    {
     "data": {
      "text/plain": [
       "0.07870538026094184"
      ]
     },
     "execution_count": 14,
     "metadata": {},
     "output_type": "execute_result"
    }
   ],
   "source": [
    "humidity_data['dsnyTempTripleMean'].corr(humidity_data['RHMean'], method='pearson')"
   ]
  },
  {
   "cell_type": "markdown",
   "metadata": {},
   "source": [
    "As you can see, we got a correlation coefficient of 0.0787. This is close to zero, which suggests that there is no linear correlation between our data. This is evident in our plot above, so no surprises here. Next, we'll try a **Spearman Correlation**, which simply measures how related two data points are (linear or not)."
   ]
  },
  {
   "cell_type": "code",
   "execution_count": 15,
   "metadata": {},
   "outputs": [
    {
     "data": {
      "text/plain": [
       "-0.13853663700072014"
      ]
     },
     "execution_count": 15,
     "metadata": {},
     "output_type": "execute_result"
    }
   ],
   "source": [
    "humidity_data['dsnyTempTripleMean'].corr(humidity_data['RHMean'], method='spearman')"
   ]
  },
  {
   "cell_type": "markdown",
   "metadata": {},
   "source": [
    "Interestingly enough, this correlation coefficient tells us that our data has a negative relationship; in other words, as the temperature goes up, the humidity tends to go down. However, our coefficient is once again very close to zero, and therefore very weak. Nonetheless, we do see that there is a trend in the upper right hand corner of our plot! This does suggest that our data has some form of a relationship present. We could try **Clustering**, but that's a whole different story in terms of computation. For now, we'll stick with mean and correlation tests."
   ]
  }
 ],
 "metadata": {
  "kernelspec": {
   "display_name": "Python 3",
   "language": "python",
   "name": "python3"
  },
  "language_info": {
   "codemirror_mode": {
    "name": "ipython",
    "version": 3
   },
   "file_extension": ".py",
   "mimetype": "text/x-python",
   "name": "python",
   "nbconvert_exporter": "python",
   "pygments_lexer": "ipython3",
   "version": "3.8.3"
  }
 },
 "nbformat": 4,
 "nbformat_minor": 4
}
