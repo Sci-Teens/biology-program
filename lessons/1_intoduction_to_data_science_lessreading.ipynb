{
 "metadata": {
  "language_info": {
   "codemirror_mode": {
    "name": "ipython",
    "version": 3
   },
   "file_extension": ".py",
   "mimetype": "text/x-python",
   "name": "python",
   "nbconvert_exporter": "python",
   "pygments_lexer": "ipython3",
   "version": 3
  },
  "orig_nbformat": 2
 },
 "nbformat": 4,
 "nbformat_minor": 2,
 "cells": [
  {
   "source": [
    "# Introduction to Data Science\n",
    "\n",
    "Recall that in order to run the code, you have two options: \n",
    "\n",
    "1. Click the play button to the left of the block to run the code in Google Colab\n",
    "2. Click on the block and press the keys shift + enter\n",
    "\n",
    "\n",
    "### Part One: Operators\n",
    "\n",
    "Operators are symbols used to perform math computations. Recall that in Python, these are the operators: \n",
    "\n",
    "- \\+ : add\n",
    "- \\- : subtract\n",
    "- \\* : multiply\n",
    "- / : divide \n",
    "\n"
   ],
   "cell_type": "markdown",
   "metadata": {}
  },
  {
   "cell_type": "code",
   "execution_count": null,
   "metadata": {},
   "outputs": [],
   "source": [
    "3 * 5 "
   ]
  },
  {
   "cell_type": "code",
   "execution_count": null,
   "metadata": {},
   "outputs": [],
   "source": [
    "20 / 5"
   ]
  },
  {
   "cell_type": "code",
   "execution_count": null,
   "metadata": {},
   "outputs": [],
   "source": [
    "Now, try this on your own!\n",
    "\n",
    "See the `#` symbol below? This isn't us using hashtags within our code, but instead, it's used for **commenting**. Comments allow us to leave messages in our code, which won't be run when we run the rest of the code. Essentially, Python / Jupyter will ignore any line of code that has a `#` before it. "
   ]
  },
  {
   "cell_type": "code",
   "execution_count": null,
   "metadata": {},
   "outputs": [],
   "source": [
    "# TODO: Add six and seven\n"
   ]
  },
  {
   "cell_type": "code",
   "execution_count": null,
   "metadata": {},
   "outputs": [],
   "source": [
    "# TODO: Multiply two by twenty-four\n"
   ]
  },
  {
   "cell_type": "code",
   "execution_count": null,
   "metadata": {},
   "outputs": [],
   "source": [
    "# TODO: Divide six by four \n"
   ]
  },
  {
   "cell_type": "code",
   "execution_count": null,
   "metadata": {},
   "outputs": [],
   "source": [
    "# TODO: Subtract twenty from seventeen"
   ]
  },
  {
   "source": [
    "### Part Two: The Equality Operator\n",
    "\n",
    "\n",
    "When you want to see if two things are equal to each other, you use the equality operator. Recall that the equality operator checks if two things are the same. \n"
   ],
   "cell_type": "markdown",
   "metadata": {}
  },
  {
   "cell_type": "code",
   "execution_count": null,
   "metadata": {},
   "outputs": [],
   "source": [
    "'Hello' == 'Hello'"
   ]
  },
  {
   "cell_type": "code",
   "execution_count": null,
   "metadata": {},
   "outputs": [],
   "source": [
    "6 == 6"
   ]
  },
  {
   "cell_type": "code",
   "execution_count": null,
   "metadata": {},
   "outputs": [],
   "source": [
    "'Good Morning' == 'Good Night'"
   ]
  },
  {
   "source": [
    "### Part Three: The And Operator\n",
    "\n",
    "Recall the and operator is a logical operator it only works with boolean values (True, False). It also functions as a middleman, who only cooperates when both sides are willing to cooperate. If both sides cooperate (if both sides stay *True* to their word), then the and operator returns a True value. In any other case,the and operator returns a False. "
   ],
   "cell_type": "markdown",
   "metadata": {}
  },
  {
   "cell_type": "code",
   "execution_count": null,
   "metadata": {},
   "outputs": [],
   "source": [
    "True & True"
   ]
  },
  {
   "cell_type": "code",
   "execution_count": null,
   "metadata": {},
   "outputs": [],
   "source": [
    "False & True"
   ]
  },
  {
   "cell_type": "code",
   "execution_count": null,
   "metadata": {},
   "outputs": [],
   "source": [
    "True & False"
   ]
  },
  {
   "cell_type": "code",
   "execution_count": null,
   "metadata": {},
   "outputs": [],
   "source": [
    "False & False"
   ]
  },
  {
   "source": [],
   "cell_type": "markdown",
   "metadata": {}
  }
 ]
}