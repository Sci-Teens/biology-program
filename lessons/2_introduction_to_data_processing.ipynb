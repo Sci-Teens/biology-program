{
 "cells": [
  {
   "cell_type": "markdown",
   "metadata": {},
   "source": [
    "# Lesson Two: Introduction to Data Processing\n",
    "Welcome back! We hope all is well, and that you're ready to dive back into processing your data! In this week's lesson, we'll cover some techniques for examining your dataset.\n",
    "\n",
    "As we go, be sure to ask plenty of questions, and never hesitate to let us know if we're moving too quickly. "
   ]
  },
  {
   "cell_type": "markdown",
   "metadata": {},
   "source": [
    "# 📊 Section One: Working with Data"
   ]
  },
  {
   "cell_type": "markdown",
   "metadata": {},
   "source": [
    "## Importing Packages\n",
    "Before we can get started with writing our notebook and diving into some data, we have to import some packages. Packages are pre-built bundles of code that allow us to achieve common tasks that we wouldn't be able to achieve in plain Python.\n",
    "\n",
    "![Panda](https://media.giphy.com/media/EatwJZRUIv41G/giphy.gif) \n",
    "\n",
    "### NumPy\n",
    "Numpy, short for **Num**erical **Py**thon, is a package that provides us with tools for working with lists of numbers, or **Arrays**. \n",
    "### Pandas\n",
    "Pandas is a package that comes with many built in tools for examining and manipulating data. We'll use this package a lot throughout this course to help us understand and dig deeply into our data. <br>"
   ]
  },
  {
   "cell_type": "code",
   "execution_count": 2,
   "metadata": {},
   "outputs": [],
   "source": [
    "import numpy as np\n",
    "import pandas as pd"
   ]
  },
  {
   "cell_type": "markdown",
   "metadata": {},
   "source": [
    "## Getting our data\n",
    "Our data is bundled up in a CSV, or **C**omma **S**eparated **V**alues file. All this means is that our data is divided into rows and columns by commas. For example, if we had a dataset that stored students' names and ages, the CSV file may look like:\n",
    "```\n",
    "Name,Age,\n",
    "Carlos,17,\n",
    "Sarah,16,\n",
    "```\n",
    "\n",
    "Feel free to take a look at the file itself if you'd like to see how this works. For now, though, we'll read in the data using pandas built-in read_csv method. A **Method** is essentially a function built into a package that allows us to achieve a specific task. In this case, our package is pandas, and our task is to read in our data from a CSV file. "
   ]
  },
  {
   "cell_type": "code",
   "execution_count": 3,
   "metadata": {},
   "outputs": [],
   "source": [
    "data = pd.read_csv('../data/florida_covid_data_the_atlantic.csv')"
   ]
  },
  {
   "cell_type": "markdown",
   "metadata": {},
   "source": [
    "## Reading in your data\n",
    "\n",
    "![Reading](https://media.giphy.com/media/SiMcadhDEZDm93GmTL/giphy.gif) \n",
    "\n",
    "Let's go ahead and read in the COVID data. For starters, let's take a peek at the first five values within the dataset using the `head()` method. This method will always return the first five values from our dataset. "
   ]
  },
  {
   "cell_type": "code",
   "execution_count": 4,
   "metadata": {},
   "outputs": [
    {
     "data": {
      "text/html": [
       "<div>\n",
       "<style scoped>\n",
       "    .dataframe tbody tr th:only-of-type {\n",
       "        vertical-align: middle;\n",
       "    }\n",
       "\n",
       "    .dataframe tbody tr th {\n",
       "        vertical-align: top;\n",
       "    }\n",
       "\n",
       "    .dataframe thead th {\n",
       "        text-align: right;\n",
       "    }\n",
       "</style>\n",
       "<table border=\"1\" class=\"dataframe\">\n",
       "  <thead>\n",
       "    <tr style=\"text-align: right;\">\n",
       "      <th></th>\n",
       "      <th>date</th>\n",
       "      <th>state</th>\n",
       "      <th>dataQualityGrade</th>\n",
       "      <th>death</th>\n",
       "      <th>deathConfirmed</th>\n",
       "      <th>deathIncrease</th>\n",
       "      <th>deathProbable</th>\n",
       "      <th>hospitalized</th>\n",
       "      <th>hospitalizedCumulative</th>\n",
       "      <th>hospitalizedCurrently</th>\n",
       "      <th>...</th>\n",
       "      <th>totalTestResults</th>\n",
       "      <th>totalTestResultsIncrease</th>\n",
       "      <th>totalTestsAntibody</th>\n",
       "      <th>totalTestsAntigen</th>\n",
       "      <th>totalTestsPeopleAntibody</th>\n",
       "      <th>totalTestsPeopleAntigen</th>\n",
       "      <th>totalTestsPeopleViral</th>\n",
       "      <th>totalTestsPeopleViralIncrease</th>\n",
       "      <th>totalTestsViral</th>\n",
       "      <th>totalTestsViralIncrease</th>\n",
       "    </tr>\n",
       "  </thead>\n",
       "  <tbody>\n",
       "    <tr>\n",
       "      <th>0</th>\n",
       "      <td>2021-01-24</td>\n",
       "      <td>FL</td>\n",
       "      <td>A</td>\n",
       "      <td>25693.0</td>\n",
       "      <td>NaN</td>\n",
       "      <td>132</td>\n",
       "      <td>NaN</td>\n",
       "      <td>71219.0</td>\n",
       "      <td>71219.0</td>\n",
       "      <td>6727.0</td>\n",
       "      <td>...</td>\n",
       "      <td>18397824</td>\n",
       "      <td>102178</td>\n",
       "      <td>650372.0</td>\n",
       "      <td>NaN</td>\n",
       "      <td>630838.0</td>\n",
       "      <td>NaN</td>\n",
       "      <td>9862348.0</td>\n",
       "      <td>37009</td>\n",
       "      <td>16456335.0</td>\n",
       "      <td>82643</td>\n",
       "    </tr>\n",
       "    <tr>\n",
       "      <th>1</th>\n",
       "      <td>2021-01-23</td>\n",
       "      <td>FL</td>\n",
       "      <td>A</td>\n",
       "      <td>25561.0</td>\n",
       "      <td>NaN</td>\n",
       "      <td>156</td>\n",
       "      <td>NaN</td>\n",
       "      <td>71037.0</td>\n",
       "      <td>71037.0</td>\n",
       "      <td>6711.0</td>\n",
       "      <td>...</td>\n",
       "      <td>18295646</td>\n",
       "      <td>169590</td>\n",
       "      <td>650372.0</td>\n",
       "      <td>NaN</td>\n",
       "      <td>630838.0</td>\n",
       "      <td>NaN</td>\n",
       "      <td>9825339.0</td>\n",
       "      <td>61098</td>\n",
       "      <td>16373692.0</td>\n",
       "      <td>138643</td>\n",
       "    </tr>\n",
       "    <tr>\n",
       "      <th>2</th>\n",
       "      <td>2021-01-22</td>\n",
       "      <td>FL</td>\n",
       "      <td>A</td>\n",
       "      <td>25405.0</td>\n",
       "      <td>NaN</td>\n",
       "      <td>277</td>\n",
       "      <td>NaN</td>\n",
       "      <td>70767.0</td>\n",
       "      <td>70767.0</td>\n",
       "      <td>6904.0</td>\n",
       "      <td>...</td>\n",
       "      <td>18126056</td>\n",
       "      <td>83831</td>\n",
       "      <td>650372.0</td>\n",
       "      <td>NaN</td>\n",
       "      <td>630838.0</td>\n",
       "      <td>NaN</td>\n",
       "      <td>9764241.0</td>\n",
       "      <td>35596</td>\n",
       "      <td>16235049.0</td>\n",
       "      <td>82008</td>\n",
       "    </tr>\n",
       "    <tr>\n",
       "      <th>3</th>\n",
       "      <td>2021-01-21</td>\n",
       "      <td>FL</td>\n",
       "      <td>A</td>\n",
       "      <td>25128.0</td>\n",
       "      <td>NaN</td>\n",
       "      <td>163</td>\n",
       "      <td>NaN</td>\n",
       "      <td>70306.0</td>\n",
       "      <td>70306.0</td>\n",
       "      <td>7023.0</td>\n",
       "      <td>...</td>\n",
       "      <td>18042225</td>\n",
       "      <td>131557</td>\n",
       "      <td>650372.0</td>\n",
       "      <td>NaN</td>\n",
       "      <td>630838.0</td>\n",
       "      <td>NaN</td>\n",
       "      <td>9728645.0</td>\n",
       "      <td>50506</td>\n",
       "      <td>16153041.0</td>\n",
       "      <td>111467</td>\n",
       "    </tr>\n",
       "    <tr>\n",
       "      <th>4</th>\n",
       "      <td>2021-01-20</td>\n",
       "      <td>FL</td>\n",
       "      <td>A</td>\n",
       "      <td>24965.0</td>\n",
       "      <td>NaN</td>\n",
       "      <td>145</td>\n",
       "      <td>NaN</td>\n",
       "      <td>69954.0</td>\n",
       "      <td>69954.0</td>\n",
       "      <td>7141.0</td>\n",
       "      <td>...</td>\n",
       "      <td>17910668</td>\n",
       "      <td>89293</td>\n",
       "      <td>650372.0</td>\n",
       "      <td>NaN</td>\n",
       "      <td>630838.0</td>\n",
       "      <td>NaN</td>\n",
       "      <td>9678139.0</td>\n",
       "      <td>38782</td>\n",
       "      <td>16041574.0</td>\n",
       "      <td>85876</td>\n",
       "    </tr>\n",
       "  </tbody>\n",
       "</table>\n",
       "<p>5 rows × 42 columns</p>\n",
       "</div>"
      ],
      "text/plain": [
       "         date state dataQualityGrade    death  deathConfirmed  deathIncrease  \\\n",
       "0  2021-01-24    FL                A  25693.0             NaN            132   \n",
       "1  2021-01-23    FL                A  25561.0             NaN            156   \n",
       "2  2021-01-22    FL                A  25405.0             NaN            277   \n",
       "3  2021-01-21    FL                A  25128.0             NaN            163   \n",
       "4  2021-01-20    FL                A  24965.0             NaN            145   \n",
       "\n",
       "   deathProbable  hospitalized  hospitalizedCumulative  hospitalizedCurrently  \\\n",
       "0            NaN       71219.0                 71219.0                 6727.0   \n",
       "1            NaN       71037.0                 71037.0                 6711.0   \n",
       "2            NaN       70767.0                 70767.0                 6904.0   \n",
       "3            NaN       70306.0                 70306.0                 7023.0   \n",
       "4            NaN       69954.0                 69954.0                 7141.0   \n",
       "\n",
       "   ...  totalTestResults  totalTestResultsIncrease  totalTestsAntibody  \\\n",
       "0  ...          18397824                    102178            650372.0   \n",
       "1  ...          18295646                    169590            650372.0   \n",
       "2  ...          18126056                     83831            650372.0   \n",
       "3  ...          18042225                    131557            650372.0   \n",
       "4  ...          17910668                     89293            650372.0   \n",
       "\n",
       "   totalTestsAntigen  totalTestsPeopleAntibody  totalTestsPeopleAntigen  \\\n",
       "0                NaN                  630838.0                      NaN   \n",
       "1                NaN                  630838.0                      NaN   \n",
       "2                NaN                  630838.0                      NaN   \n",
       "3                NaN                  630838.0                      NaN   \n",
       "4                NaN                  630838.0                      NaN   \n",
       "\n",
       "   totalTestsPeopleViral  totalTestsPeopleViralIncrease  totalTestsViral  \\\n",
       "0              9862348.0                          37009       16456335.0   \n",
       "1              9825339.0                          61098       16373692.0   \n",
       "2              9764241.0                          35596       16235049.0   \n",
       "3              9728645.0                          50506       16153041.0   \n",
       "4              9678139.0                          38782       16041574.0   \n",
       "\n",
       "   totalTestsViralIncrease  \n",
       "0                    82643  \n",
       "1                   138643  \n",
       "2                    82008  \n",
       "3                   111467  \n",
       "4                    85876  \n",
       "\n",
       "[5 rows x 42 columns]"
      ]
     },
     "execution_count": 4,
     "metadata": {},
     "output_type": "execute_result"
    }
   ],
   "source": [
    "data.head()"
   ]
  },
  {
   "cell_type": "markdown",
   "metadata": {},
   "source": [
    "Pretty cool, huh? Likewise, we can also use the ``tail()`` method to see the end of our data. This method will always return the last five values from our dataset."
   ]
  },
  {
   "cell_type": "code",
   "execution_count": 5,
   "metadata": {},
   "outputs": [
    {
     "data": {
      "text/html": [
       "<div>\n",
       "<style scoped>\n",
       "    .dataframe tbody tr th:only-of-type {\n",
       "        vertical-align: middle;\n",
       "    }\n",
       "\n",
       "    .dataframe tbody tr th {\n",
       "        vertical-align: top;\n",
       "    }\n",
       "\n",
       "    .dataframe thead th {\n",
       "        text-align: right;\n",
       "    }\n",
       "</style>\n",
       "<table border=\"1\" class=\"dataframe\">\n",
       "  <thead>\n",
       "    <tr style=\"text-align: right;\">\n",
       "      <th></th>\n",
       "      <th>date</th>\n",
       "      <th>state</th>\n",
       "      <th>dataQualityGrade</th>\n",
       "      <th>death</th>\n",
       "      <th>deathConfirmed</th>\n",
       "      <th>deathIncrease</th>\n",
       "      <th>deathProbable</th>\n",
       "      <th>hospitalized</th>\n",
       "      <th>hospitalizedCumulative</th>\n",
       "      <th>hospitalizedCurrently</th>\n",
       "      <th>...</th>\n",
       "      <th>totalTestResults</th>\n",
       "      <th>totalTestResultsIncrease</th>\n",
       "      <th>totalTestsAntibody</th>\n",
       "      <th>totalTestsAntigen</th>\n",
       "      <th>totalTestsPeopleAntibody</th>\n",
       "      <th>totalTestsPeopleAntigen</th>\n",
       "      <th>totalTestsPeopleViral</th>\n",
       "      <th>totalTestsPeopleViralIncrease</th>\n",
       "      <th>totalTestsViral</th>\n",
       "      <th>totalTestsViralIncrease</th>\n",
       "    </tr>\n",
       "  </thead>\n",
       "  <tbody>\n",
       "    <tr>\n",
       "      <th>357</th>\n",
       "      <td>2020-02-02</td>\n",
       "      <td>FL</td>\n",
       "      <td>NaN</td>\n",
       "      <td>NaN</td>\n",
       "      <td>NaN</td>\n",
       "      <td>0</td>\n",
       "      <td>NaN</td>\n",
       "      <td>NaN</td>\n",
       "      <td>NaN</td>\n",
       "      <td>NaN</td>\n",
       "      <td>...</td>\n",
       "      <td>4</td>\n",
       "      <td>0</td>\n",
       "      <td>NaN</td>\n",
       "      <td>NaN</td>\n",
       "      <td>NaN</td>\n",
       "      <td>NaN</td>\n",
       "      <td>NaN</td>\n",
       "      <td>0</td>\n",
       "      <td>NaN</td>\n",
       "      <td>0</td>\n",
       "    </tr>\n",
       "    <tr>\n",
       "      <th>358</th>\n",
       "      <td>2020-02-01</td>\n",
       "      <td>FL</td>\n",
       "      <td>NaN</td>\n",
       "      <td>NaN</td>\n",
       "      <td>NaN</td>\n",
       "      <td>0</td>\n",
       "      <td>NaN</td>\n",
       "      <td>NaN</td>\n",
       "      <td>NaN</td>\n",
       "      <td>NaN</td>\n",
       "      <td>...</td>\n",
       "      <td>4</td>\n",
       "      <td>0</td>\n",
       "      <td>NaN</td>\n",
       "      <td>NaN</td>\n",
       "      <td>NaN</td>\n",
       "      <td>NaN</td>\n",
       "      <td>NaN</td>\n",
       "      <td>0</td>\n",
       "      <td>NaN</td>\n",
       "      <td>0</td>\n",
       "    </tr>\n",
       "    <tr>\n",
       "      <th>359</th>\n",
       "      <td>2020-01-31</td>\n",
       "      <td>FL</td>\n",
       "      <td>NaN</td>\n",
       "      <td>NaN</td>\n",
       "      <td>NaN</td>\n",
       "      <td>0</td>\n",
       "      <td>NaN</td>\n",
       "      <td>NaN</td>\n",
       "      <td>NaN</td>\n",
       "      <td>NaN</td>\n",
       "      <td>...</td>\n",
       "      <td>4</td>\n",
       "      <td>3</td>\n",
       "      <td>NaN</td>\n",
       "      <td>NaN</td>\n",
       "      <td>NaN</td>\n",
       "      <td>NaN</td>\n",
       "      <td>NaN</td>\n",
       "      <td>0</td>\n",
       "      <td>NaN</td>\n",
       "      <td>0</td>\n",
       "    </tr>\n",
       "    <tr>\n",
       "      <th>360</th>\n",
       "      <td>2020-01-30</td>\n",
       "      <td>FL</td>\n",
       "      <td>NaN</td>\n",
       "      <td>NaN</td>\n",
       "      <td>NaN</td>\n",
       "      <td>0</td>\n",
       "      <td>NaN</td>\n",
       "      <td>NaN</td>\n",
       "      <td>NaN</td>\n",
       "      <td>NaN</td>\n",
       "      <td>...</td>\n",
       "      <td>1</td>\n",
       "      <td>0</td>\n",
       "      <td>NaN</td>\n",
       "      <td>NaN</td>\n",
       "      <td>NaN</td>\n",
       "      <td>NaN</td>\n",
       "      <td>NaN</td>\n",
       "      <td>0</td>\n",
       "      <td>NaN</td>\n",
       "      <td>0</td>\n",
       "    </tr>\n",
       "    <tr>\n",
       "      <th>361</th>\n",
       "      <td>2020-01-29</td>\n",
       "      <td>FL</td>\n",
       "      <td>NaN</td>\n",
       "      <td>NaN</td>\n",
       "      <td>NaN</td>\n",
       "      <td>0</td>\n",
       "      <td>NaN</td>\n",
       "      <td>NaN</td>\n",
       "      <td>NaN</td>\n",
       "      <td>NaN</td>\n",
       "      <td>...</td>\n",
       "      <td>1</td>\n",
       "      <td>0</td>\n",
       "      <td>NaN</td>\n",
       "      <td>NaN</td>\n",
       "      <td>NaN</td>\n",
       "      <td>NaN</td>\n",
       "      <td>NaN</td>\n",
       "      <td>0</td>\n",
       "      <td>NaN</td>\n",
       "      <td>0</td>\n",
       "    </tr>\n",
       "  </tbody>\n",
       "</table>\n",
       "<p>5 rows × 42 columns</p>\n",
       "</div>"
      ],
      "text/plain": [
       "           date state dataQualityGrade  death  deathConfirmed  deathIncrease  \\\n",
       "357  2020-02-02    FL              NaN    NaN             NaN              0   \n",
       "358  2020-02-01    FL              NaN    NaN             NaN              0   \n",
       "359  2020-01-31    FL              NaN    NaN             NaN              0   \n",
       "360  2020-01-30    FL              NaN    NaN             NaN              0   \n",
       "361  2020-01-29    FL              NaN    NaN             NaN              0   \n",
       "\n",
       "     deathProbable  hospitalized  hospitalizedCumulative  \\\n",
       "357            NaN           NaN                     NaN   \n",
       "358            NaN           NaN                     NaN   \n",
       "359            NaN           NaN                     NaN   \n",
       "360            NaN           NaN                     NaN   \n",
       "361            NaN           NaN                     NaN   \n",
       "\n",
       "     hospitalizedCurrently  ...  totalTestResults  totalTestResultsIncrease  \\\n",
       "357                    NaN  ...                 4                         0   \n",
       "358                    NaN  ...                 4                         0   \n",
       "359                    NaN  ...                 4                         3   \n",
       "360                    NaN  ...                 1                         0   \n",
       "361                    NaN  ...                 1                         0   \n",
       "\n",
       "     totalTestsAntibody  totalTestsAntigen  totalTestsPeopleAntibody  \\\n",
       "357                 NaN                NaN                       NaN   \n",
       "358                 NaN                NaN                       NaN   \n",
       "359                 NaN                NaN                       NaN   \n",
       "360                 NaN                NaN                       NaN   \n",
       "361                 NaN                NaN                       NaN   \n",
       "\n",
       "     totalTestsPeopleAntigen  totalTestsPeopleViral  \\\n",
       "357                      NaN                    NaN   \n",
       "358                      NaN                    NaN   \n",
       "359                      NaN                    NaN   \n",
       "360                      NaN                    NaN   \n",
       "361                      NaN                    NaN   \n",
       "\n",
       "     totalTestsPeopleViralIncrease  totalTestsViral  totalTestsViralIncrease  \n",
       "357                              0              NaN                        0  \n",
       "358                              0              NaN                        0  \n",
       "359                              0              NaN                        0  \n",
       "360                              0              NaN                        0  \n",
       "361                              0              NaN                        0  \n",
       "\n",
       "[5 rows x 42 columns]"
      ]
     },
     "execution_count": 5,
     "metadata": {},
     "output_type": "execute_result"
    }
   ],
   "source": [
    "data.tail()"
   ]
  },
  {
   "cell_type": "markdown",
   "metadata": {},
   "source": [
    "One more method that we recommend you use when you first import data is the ``describe()`` method. This will allow you to explore some key information about your data. Let's check it out below"
   ]
  },
  {
   "cell_type": "code",
   "execution_count": 6,
   "metadata": {},
   "outputs": [
    {
     "data": {
      "text/html": [
       "<div>\n",
       "<style scoped>\n",
       "    .dataframe tbody tr th:only-of-type {\n",
       "        vertical-align: middle;\n",
       "    }\n",
       "\n",
       "    .dataframe tbody tr th {\n",
       "        vertical-align: top;\n",
       "    }\n",
       "\n",
       "    .dataframe thead th {\n",
       "        text-align: right;\n",
       "    }\n",
       "</style>\n",
       "<table border=\"1\" class=\"dataframe\">\n",
       "  <thead>\n",
       "    <tr style=\"text-align: right;\">\n",
       "      <th></th>\n",
       "      <th>death</th>\n",
       "      <th>deathConfirmed</th>\n",
       "      <th>deathIncrease</th>\n",
       "      <th>deathProbable</th>\n",
       "      <th>hospitalized</th>\n",
       "      <th>hospitalizedCumulative</th>\n",
       "      <th>hospitalizedCurrently</th>\n",
       "      <th>hospitalizedIncrease</th>\n",
       "      <th>inIcuCumulative</th>\n",
       "      <th>inIcuCurrently</th>\n",
       "      <th>...</th>\n",
       "      <th>totalTestResults</th>\n",
       "      <th>totalTestResultsIncrease</th>\n",
       "      <th>totalTestsAntibody</th>\n",
       "      <th>totalTestsAntigen</th>\n",
       "      <th>totalTestsPeopleAntibody</th>\n",
       "      <th>totalTestsPeopleAntigen</th>\n",
       "      <th>totalTestsPeopleViral</th>\n",
       "      <th>totalTestsPeopleViralIncrease</th>\n",
       "      <th>totalTestsViral</th>\n",
       "      <th>totalTestsViralIncrease</th>\n",
       "    </tr>\n",
       "  </thead>\n",
       "  <tbody>\n",
       "    <tr>\n",
       "      <th>count</th>\n",
       "      <td>320.000000</td>\n",
       "      <td>101.000000</td>\n",
       "      <td>362.000000</td>\n",
       "      <td>0.0</td>\n",
       "      <td>310.000000</td>\n",
       "      <td>310.000000</td>\n",
       "      <td>199.000000</td>\n",
       "      <td>362.000000</td>\n",
       "      <td>0.0</td>\n",
       "      <td>0.0</td>\n",
       "      <td>...</td>\n",
       "      <td>3.620000e+02</td>\n",
       "      <td>362.000000</td>\n",
       "      <td>179.000000</td>\n",
       "      <td>0.0</td>\n",
       "      <td>238.000000</td>\n",
       "      <td>0.0</td>\n",
       "      <td>2.570000e+02</td>\n",
       "      <td>362.000000</td>\n",
       "      <td>2.530000e+02</td>\n",
       "      <td>362.000000</td>\n",
       "    </tr>\n",
       "    <tr>\n",
       "      <th>mean</th>\n",
       "      <td>10127.484375</td>\n",
       "      <td>3865.910891</td>\n",
       "      <td>70.975138</td>\n",
       "      <td>NaN</td>\n",
       "      <td>32906.570968</td>\n",
       "      <td>32906.570968</td>\n",
       "      <td>4756.673367</td>\n",
       "      <td>196.737569</td>\n",
       "      <td>NaN</td>\n",
       "      <td>NaN</td>\n",
       "      <td>...</td>\n",
       "      <td>5.596519e+06</td>\n",
       "      <td>50822.715470</td>\n",
       "      <td>549156.972067</td>\n",
       "      <td>NaN</td>\n",
       "      <td>460886.680672</td>\n",
       "      <td>NaN</td>\n",
       "      <td>4.952040e+06</td>\n",
       "      <td>27244.055249</td>\n",
       "      <td>7.385879e+06</td>\n",
       "      <td>45459.488950</td>\n",
       "    </tr>\n",
       "    <tr>\n",
       "      <th>std</th>\n",
       "      <td>7971.130909</td>\n",
       "      <td>1904.940771</td>\n",
       "      <td>62.885746</td>\n",
       "      <td>NaN</td>\n",
       "      <td>21817.513102</td>\n",
       "      <td>21817.513102</td>\n",
       "      <td>2300.354303</td>\n",
       "      <td>151.492849</td>\n",
       "      <td>NaN</td>\n",
       "      <td>NaN</td>\n",
       "      <td>...</td>\n",
       "      <td>5.558225e+06</td>\n",
       "      <td>42841.097852</td>\n",
       "      <td>95388.473029</td>\n",
       "      <td>NaN</td>\n",
       "      <td>155350.709657</td>\n",
       "      <td>NaN</td>\n",
       "      <td>2.601348e+06</td>\n",
       "      <td>36501.655770</td>\n",
       "      <td>4.361042e+06</td>\n",
       "      <td>54512.298635</td>\n",
       "    </tr>\n",
       "    <tr>\n",
       "      <th>min</th>\n",
       "      <td>2.000000</td>\n",
       "      <td>1403.000000</td>\n",
       "      <td>0.000000</td>\n",
       "      <td>NaN</td>\n",
       "      <td>158.000000</td>\n",
       "      <td>158.000000</td>\n",
       "      <td>2005.000000</td>\n",
       "      <td>0.000000</td>\n",
       "      <td>NaN</td>\n",
       "      <td>NaN</td>\n",
       "      <td>...</td>\n",
       "      <td>1.000000e+00</td>\n",
       "      <td>0.000000</td>\n",
       "      <td>358283.000000</td>\n",
       "      <td>NaN</td>\n",
       "      <td>123552.000000</td>\n",
       "      <td>NaN</td>\n",
       "      <td>5.796040e+05</td>\n",
       "      <td>-190.000000</td>\n",
       "      <td>7.461240e+05</td>\n",
       "      <td>0.000000</td>\n",
       "    </tr>\n",
       "    <tr>\n",
       "      <th>25%</th>\n",
       "      <td>2521.250000</td>\n",
       "      <td>2446.000000</td>\n",
       "      <td>17.250000</td>\n",
       "      <td>NaN</td>\n",
       "      <td>11176.000000</td>\n",
       "      <td>11176.000000</td>\n",
       "      <td>2506.000000</td>\n",
       "      <td>77.250000</td>\n",
       "      <td>NaN</td>\n",
       "      <td>NaN</td>\n",
       "      <td>...</td>\n",
       "      <td>3.633092e+05</td>\n",
       "      <td>12273.750000</td>\n",
       "      <td>446669.000000</td>\n",
       "      <td>NaN</td>\n",
       "      <td>353026.000000</td>\n",
       "      <td>NaN</td>\n",
       "      <td>2.819000e+06</td>\n",
       "      <td>0.000000</td>\n",
       "      <td>3.775936e+06</td>\n",
       "      <td>0.000000</td>\n",
       "    </tr>\n",
       "    <tr>\n",
       "      <th>50%</th>\n",
       "      <td>9783.500000</td>\n",
       "      <td>3266.000000</td>\n",
       "      <td>55.000000</td>\n",
       "      <td>NaN</td>\n",
       "      <td>36833.500000</td>\n",
       "      <td>36833.500000</td>\n",
       "      <td>4334.000000</td>\n",
       "      <td>180.500000</td>\n",
       "      <td>NaN</td>\n",
       "      <td>NaN</td>\n",
       "      <td>...</td>\n",
       "      <td>4.218730e+06</td>\n",
       "      <td>46614.000000</td>\n",
       "      <td>539844.000000</td>\n",
       "      <td>NaN</td>\n",
       "      <td>493810.000000</td>\n",
       "      <td>NaN</td>\n",
       "      <td>5.024730e+06</td>\n",
       "      <td>26275.500000</td>\n",
       "      <td>7.142713e+06</td>\n",
       "      <td>41369.500000</td>\n",
       "    </tr>\n",
       "    <tr>\n",
       "      <th>75%</th>\n",
       "      <td>17183.500000</td>\n",
       "      <td>4912.000000</td>\n",
       "      <td>107.000000</td>\n",
       "      <td>NaN</td>\n",
       "      <td>51077.000000</td>\n",
       "      <td>51077.000000</td>\n",
       "      <td>6897.000000</td>\n",
       "      <td>283.750000</td>\n",
       "      <td>NaN</td>\n",
       "      <td>NaN</td>\n",
       "      <td>...</td>\n",
       "      <td>9.624810e+06</td>\n",
       "      <td>77791.500000</td>\n",
       "      <td>650372.000000</td>\n",
       "      <td>NaN</td>\n",
       "      <td>607025.000000</td>\n",
       "      <td>NaN</td>\n",
       "      <td>6.850174e+06</td>\n",
       "      <td>42768.750000</td>\n",
       "      <td>1.036537e+07</td>\n",
       "      <td>71154.500000</td>\n",
       "    </tr>\n",
       "    <tr>\n",
       "      <th>max</th>\n",
       "      <td>25693.000000</td>\n",
       "      <td>8685.000000</td>\n",
       "      <td>277.000000</td>\n",
       "      <td>NaN</td>\n",
       "      <td>71219.000000</td>\n",
       "      <td>71219.000000</td>\n",
       "      <td>9520.000000</td>\n",
       "      <td>623.000000</td>\n",
       "      <td>NaN</td>\n",
       "      <td>NaN</td>\n",
       "      <td>...</td>\n",
       "      <td>1.839782e+07</td>\n",
       "      <td>247151.000000</td>\n",
       "      <td>650372.000000</td>\n",
       "      <td>NaN</td>\n",
       "      <td>630838.000000</td>\n",
       "      <td>NaN</td>\n",
       "      <td>9.862348e+06</td>\n",
       "      <td>579604.000000</td>\n",
       "      <td>1.645634e+07</td>\n",
       "      <td>746124.000000</td>\n",
       "    </tr>\n",
       "  </tbody>\n",
       "</table>\n",
       "<p>8 rows × 39 columns</p>\n",
       "</div>"
      ],
      "text/plain": [
       "              death  deathConfirmed  deathIncrease  deathProbable  \\\n",
       "count    320.000000      101.000000     362.000000            0.0   \n",
       "mean   10127.484375     3865.910891      70.975138            NaN   \n",
       "std     7971.130909     1904.940771      62.885746            NaN   \n",
       "min        2.000000     1403.000000       0.000000            NaN   \n",
       "25%     2521.250000     2446.000000      17.250000            NaN   \n",
       "50%     9783.500000     3266.000000      55.000000            NaN   \n",
       "75%    17183.500000     4912.000000     107.000000            NaN   \n",
       "max    25693.000000     8685.000000     277.000000            NaN   \n",
       "\n",
       "       hospitalized  hospitalizedCumulative  hospitalizedCurrently  \\\n",
       "count    310.000000              310.000000             199.000000   \n",
       "mean   32906.570968            32906.570968            4756.673367   \n",
       "std    21817.513102            21817.513102            2300.354303   \n",
       "min      158.000000              158.000000            2005.000000   \n",
       "25%    11176.000000            11176.000000            2506.000000   \n",
       "50%    36833.500000            36833.500000            4334.000000   \n",
       "75%    51077.000000            51077.000000            6897.000000   \n",
       "max    71219.000000            71219.000000            9520.000000   \n",
       "\n",
       "       hospitalizedIncrease  inIcuCumulative  inIcuCurrently  ...  \\\n",
       "count            362.000000              0.0             0.0  ...   \n",
       "mean             196.737569              NaN             NaN  ...   \n",
       "std              151.492849              NaN             NaN  ...   \n",
       "min                0.000000              NaN             NaN  ...   \n",
       "25%               77.250000              NaN             NaN  ...   \n",
       "50%              180.500000              NaN             NaN  ...   \n",
       "75%              283.750000              NaN             NaN  ...   \n",
       "max              623.000000              NaN             NaN  ...   \n",
       "\n",
       "       totalTestResults  totalTestResultsIncrease  totalTestsAntibody  \\\n",
       "count      3.620000e+02                362.000000          179.000000   \n",
       "mean       5.596519e+06              50822.715470       549156.972067   \n",
       "std        5.558225e+06              42841.097852        95388.473029   \n",
       "min        1.000000e+00                  0.000000       358283.000000   \n",
       "25%        3.633092e+05              12273.750000       446669.000000   \n",
       "50%        4.218730e+06              46614.000000       539844.000000   \n",
       "75%        9.624810e+06              77791.500000       650372.000000   \n",
       "max        1.839782e+07             247151.000000       650372.000000   \n",
       "\n",
       "       totalTestsAntigen  totalTestsPeopleAntibody  totalTestsPeopleAntigen  \\\n",
       "count                0.0                238.000000                      0.0   \n",
       "mean                 NaN             460886.680672                      NaN   \n",
       "std                  NaN             155350.709657                      NaN   \n",
       "min                  NaN             123552.000000                      NaN   \n",
       "25%                  NaN             353026.000000                      NaN   \n",
       "50%                  NaN             493810.000000                      NaN   \n",
       "75%                  NaN             607025.000000                      NaN   \n",
       "max                  NaN             630838.000000                      NaN   \n",
       "\n",
       "       totalTestsPeopleViral  totalTestsPeopleViralIncrease  totalTestsViral  \\\n",
       "count           2.570000e+02                     362.000000     2.530000e+02   \n",
       "mean            4.952040e+06                   27244.055249     7.385879e+06   \n",
       "std             2.601348e+06                   36501.655770     4.361042e+06   \n",
       "min             5.796040e+05                    -190.000000     7.461240e+05   \n",
       "25%             2.819000e+06                       0.000000     3.775936e+06   \n",
       "50%             5.024730e+06                   26275.500000     7.142713e+06   \n",
       "75%             6.850174e+06                   42768.750000     1.036537e+07   \n",
       "max             9.862348e+06                  579604.000000     1.645634e+07   \n",
       "\n",
       "       totalTestsViralIncrease  \n",
       "count               362.000000  \n",
       "mean              45459.488950  \n",
       "std               54512.298635  \n",
       "min                   0.000000  \n",
       "25%                   0.000000  \n",
       "50%               41369.500000  \n",
       "75%               71154.500000  \n",
       "max              746124.000000  \n",
       "\n",
       "[8 rows x 39 columns]"
      ]
     },
     "execution_count": 6,
     "metadata": {},
     "output_type": "execute_result"
    }
   ],
   "source": [
    "data.describe()"
   ]
  },
  {
   "cell_type": "markdown",
   "metadata": {},
   "source": [
    "# 🔎 Section Two: Accessing our Data"
   ]
  },
  {
   "cell_type": "markdown",
   "metadata": {},
   "source": [
    "## Accessing data values\n",
    "Let's see how we can access certain values from the dataset. You may have noticed by now that our dataset is arranged in rows and columns, similar to an Excel sheet. Each column within a Pandas DataFrame is called a **Series**. For example, we can view the total number of hospitalized people using ``data['hospitalizedCumulative']``. Let's try it out: Choose one of the columns that you see from the ``data.head()`` or ``data.tail()`` cells, and access that column of data."
   ]
  },
  {
   "cell_type": "code",
   "execution_count": 12,
   "metadata": {},
   "outputs": [
    {
     "data": {
      "text/plain": [
       "0      71219.0\n",
       "1      71037.0\n",
       "2      70767.0\n",
       "3      70306.0\n",
       "4      69954.0\n",
       "        ...   \n",
       "357        NaN\n",
       "358        NaN\n",
       "359        NaN\n",
       "360        NaN\n",
       "361        NaN\n",
       "Name: hospitalizedCumulative, Length: 362, dtype: float64"
      ]
     },
     "execution_count": 12,
     "metadata": {},
     "output_type": "execute_result"
    }
   ],
   "source": [
    "# Get the values from the 'hospitalized' column\n",
    "data['hospitalizedCumulative']"
   ]
  },
  {
   "cell_type": "code",
   "execution_count": null,
   "metadata": {},
   "outputs": [],
   "source": [
    "# TODO: Access a column from your data\n",
    "data['<COLUMN NAME>']"
   ]
  },
  {
   "cell_type": "code",
   "execution_count": null,
   "metadata": {},
   "outputs": [],
   "source": [
    "## TODO: Access another column\n",
    "data['<ANOTHER COLUMN NAME>']"
   ]
  },
  {
   "cell_type": "markdown",
   "metadata": {},
   "source": [
    "### Challenge! \n",
    "Here's a tricky one: What if we want to access multiple columns of data at a time? See if you can do this yourself below"
   ]
  },
  {
   "cell_type": "code",
   "execution_count": null,
   "metadata": {},
   "outputs": [],
   "source": [
    "## TODO: Access two columns at once\n"
   ]
  },
  {
   "cell_type": "markdown",
   "metadata": {},
   "source": [
    "Perhaps instead of getting a column from our data, we want to access a specific row. We can achieve this by using **iloc**. Here, we can pass in **integer** values representing which row we want to fetch."
   ]
  },
  {
   "cell_type": "code",
   "execution_count": null,
   "metadata": {},
   "outputs": [],
   "source": [
    "data.iloc[0]"
   ]
  },
  {
   "cell_type": "markdown",
   "metadata": {},
   "source": [
    "Another important tool at your disposal in Python, and Pandas, is **slicing** the data. This allows us to select multiple rows at once. For example, if we wanted to select rows three through five of the data, we would use the code block below. Remember that although the left most column has the numbers 2, 3, and 4, Python is zero indexed, and thus these rows are actually 3,4, and 5. "
   ]
  },
  {
   "cell_type": "code",
   "execution_count": null,
   "metadata": {},
   "outputs": [],
   "source": [
    "data.iloc[2:5]"
   ]
  },
  {
   "cell_type": "markdown",
   "metadata": {},
   "source": [
    "You may have noticed that although the slice starts at three, we tell it to end at six. Why not five, we only want rows three through five! Slicing works by including the first number specified, but excluding the last number specified. For example, ```iloc[10:20]``` fetches rows nine through nineteen, and ```iloc[7:10]``` selects rows six through nine. You're absolutely justified in being confused by this at first, but don't worry; with practice, this will become much easier to understand. Try out some more slicing techniques below"
   ]
  },
  {
   "cell_type": "code",
   "execution_count": null,
   "metadata": {},
   "outputs": [],
   "source": [
    "# TODO: select rows two through ten\n",
    "data.iloc[  ]"
   ]
  },
  {
   "cell_type": "code",
   "execution_count": null,
   "metadata": {},
   "outputs": [],
   "source": [
    "# TODO: select rows seven through fourteen\n",
    "data.iloc[  ]"
   ]
  },
  {
   "cell_type": "markdown",
   "metadata": {},
   "source": [
    "## Challenge\n",
    "This one has a simple solution, though there's a super simple way to achieve it as well. We didn't teach this yet, so props to you if you can figure out the shorthand way to select the data. "
   ]
  },
  {
   "cell_type": "code",
   "execution_count": null,
   "metadata": {},
   "outputs": [],
   "source": [
    "#TODO: select all rows up to row ten\n",
    "data.iloc[  ]"
   ]
  },
  {
   "cell_type": "code",
   "execution_count": 22,
   "metadata": {},
   "outputs": [
    {
     "ename": "SyntaxError",
     "evalue": "invalid syntax (<ipython-input-22-f7cb43eeaec8>, line 2)",
     "output_type": "error",
     "traceback": [
      "\u001b[1;36m  File \u001b[1;32m\"<ipython-input-22-f7cb43eeaec8>\"\u001b[1;36m, line \u001b[1;32m2\u001b[0m\n\u001b[1;33m    data.iloc[  ]\u001b[0m\n\u001b[1;37m                ^\u001b[0m\n\u001b[1;31mSyntaxError\u001b[0m\u001b[1;31m:\u001b[0m invalid syntax\n"
     ]
    }
   ],
   "source": [
    "# TODO: select all rows after row ten\n",
    "data.iloc[  ]"
   ]
  },
  {
   "cell_type": "markdown",
   "metadata": {},
   "source": [
    "# 🧮 Section Three: Calculating Statistics"
   ]
  },
  {
   "cell_type": "markdown",
   "metadata": {},
   "source": [
    "## Getting Statistics from our Data\n",
    "\n",
    "![Numbers](https://media.giphy.com/media/d8isjk1UBPFTm0EBbd/giphy.gif)\n",
    "\n",
    "Now that we're able to access columns from our data, let's try getting some key statistics. We can start with the **mean**, **median**, and **standard deviation** for some of our **quantitative** data.\n",
    "\n",
    "For now, we'll calculate the mean, median, and standard deviation for the number of daily COVID deaths within the dataset. Note that these values are the same as the `describe()` method we used before."
   ]
  },
  {
   "cell_type": "code",
   "execution_count": 13,
   "metadata": {},
   "outputs": [
    {
     "data": {
      "text/plain": [
       "70.97513812154696"
      ]
     },
     "execution_count": 13,
     "metadata": {},
     "output_type": "execute_result"
    }
   ],
   "source": [
    "data['deathIncrease'].mean()"
   ]
  },
  {
   "cell_type": "code",
   "execution_count": 14,
   "metadata": {},
   "outputs": [
    {
     "data": {
      "text/plain": [
       "55.0"
      ]
     },
     "execution_count": 14,
     "metadata": {},
     "output_type": "execute_result"
    }
   ],
   "source": [
    "data['deathIncrease'].median()"
   ]
  },
  {
   "cell_type": "code",
   "execution_count": 15,
   "metadata": {},
   "outputs": [
    {
     "data": {
      "text/plain": [
       "62.88574646695885"
      ]
     },
     "execution_count": 15,
     "metadata": {},
     "output_type": "execute_result"
    }
   ],
   "source": [
    "data['deathIncrease'].std()"
   ]
  },
  {
   "cell_type": "markdown",
   "metadata": {},
   "source": [
    "### ✨ Jupyter Notebook Quick Tip\n",
    "Wow, we've just started and it looks like we've already learned so much. In case you forget what any of the code does later, you can hover over a line of code in Google Colab to see what it does. Try it out above by hovering over ``.std()``"
   ]
  },
  {
   "cell_type": "markdown",
   "metadata": {},
   "source": [
    "# Practice \n",
    "Great work today. For practice this week, we want you to get a taste of what's known as **Exploratory Data Analysis** (EDA). You can think of EDA as simply 'getting to know the data'."
   ]
  },
  {
   "cell_type": "markdown",
   "metadata": {},
   "source": [
    "**Question One:** To start let's take a look at the first few lines of your dataset using the ``.head()`` method."
   ]
  },
  {
   "cell_type": "code",
   "execution_count": null,
   "metadata": {},
   "outputs": [],
   "source": []
  },
  {
   "cell_type": "markdown",
   "metadata": {},
   "source": [
    "**Question Two:** Do you notice any variables that are interesting? Which variables are quantitative (numerical) vs. qualitative (categorical)?"
   ]
  },
  {
   "cell_type": "code",
   "execution_count": null,
   "metadata": {},
   "outputs": [],
   "source": []
  },
  {
   "cell_type": "markdown",
   "metadata": {},
   "source": [
    "**Question Three:** Let's try accessing one of your columns in the dataset. If you need a refresher on how to do this, check out the 'Accessing Data Values' section above."
   ]
  },
  {
   "cell_type": "code",
   "execution_count": null,
   "metadata": {},
   "outputs": [],
   "source": []
  },
  {
   "cell_type": "markdown",
   "metadata": {},
   "source": [
    "**Question Four:** Now let's check out some of the rows of your dataset. Let's use ``.describe()`` to see how many rows are in your dataset."
   ]
  },
  {
   "cell_type": "code",
   "execution_count": null,
   "metadata": {},
   "outputs": [],
   "source": []
  },
  {
   "cell_type": "markdown",
   "metadata": {},
   "source": [
    "**Question Five:** Let's grab rows 10-20 from your dataset. If you're not sure how to do this, try looking at the .iloc methods we looked at above."
   ]
  },
  {
   "cell_type": "code",
   "execution_count": null,
   "metadata": {},
   "outputs": [],
   "source": []
  },
  {
   "cell_type": "markdown",
   "metadata": {},
   "source": [
    "**Question Six\":** Finally, let's sort your dataset by ascending values. We haven't taught you how to do this yet but take a look at the ``.sort_values()`` method. **Tip:** Think about what happens if you type `ascending = False` inside the parentheses..."
   ]
  },
  {
   "cell_type": "code",
   "execution_count": null,
   "metadata": {},
   "outputs": [],
   "source": []
  },
  {
   "cell_type": "markdown",
   "metadata": {},
   "source": [
    "### Challenge\n",
    "Time for the challenge question! Get the median of the first and last 10 values of one of the columns in your dataset. This will involve ``.iloc`` and ``.mean()``. Set these two values to mean_first and mean_last, then print them out."
   ]
  },
  {
   "cell_type": "code",
   "execution_count": null,
   "metadata": {},
   "outputs": [],
   "source": [
    "#mean_first = \n",
    "#mean_last = "
   ]
  },
  {
   "cell_type": "markdown",
   "metadata": {},
   "source": [
    "Okay that's all we have for this week. Please feel free to reach out to us through email or attend our weekly Office Hours for questions or help on the practice problems. If you want a great cheat sheet to remember what you learned today (and possibly learn more cool Pandas tricks) be sure to check out https://pandas.pydata.org/Pandas_Cheat_Sheet.pdf. "
   ]
  }
 ],
 "metadata": {
  "kernelspec": {
   "display_name": "Python 3",
   "language": "python",
   "name": "python3"
  },
  "language_info": {
   "codemirror_mode": {
    "name": "ipython",
    "version": 3
   },
   "file_extension": ".py",
   "mimetype": "text/x-python",
   "name": "python",
   "nbconvert_exporter": "python",
   "pygments_lexer": "ipython3",
   "version": "3.8.3"
  }
 },
 "nbformat": 4,
 "nbformat_minor": 4
}
