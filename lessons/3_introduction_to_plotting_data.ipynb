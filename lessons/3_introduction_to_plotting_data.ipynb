{
 "cells": [
  {
   "cell_type": "markdown",
   "metadata": {},
   "source": [
    "# Lesson Three: Introduction to Plotting Data\n",
    "Congrats, you've made it to week three! This week will be awesome for those of you who are more artistically inclined, as we will be exploring different ways to visualise data. \n",
    "\n",
    "![Stonks](https://media.giphy.com/media/Qu1fT51CG14ksIkASL/giphy.gif)"
   ]
  },
  {
   "cell_type": "markdown",
   "metadata": {},
   "source": [
    "# 📲 Section One: Importing Packages\n",
    "Once again, we'll be importing pandas. This time around, we'll also import **matplotlib** and its **pyplot** submodule so that we can create some stunning plots today."
   ]
  },
  {
   "cell_type": "code",
   "execution_count": null,
   "metadata": {},
   "outputs": [],
   "source": [
    "import matplotlib.pyplot as plt\n",
    "import pandas as pd "
   ]
  },
  {
   "cell_type": "code",
   "execution_count": null,
   "metadata": {},
   "outputs": [],
   "source": [
    "florida_data = pd.read_csv('https://raw.githubusercontent.com/Sci-Teens/biology-program/main/data/florida_covid_data_the_atlantic.csv')\n",
    "georgia_data = pd.read_csv('https://raw.githubusercontent.com/Sci-Teens/biology-program/main/data/georgia_covid_data_healthcare.csv')"
   ]
  },
  {
   "cell_type": "code",
   "execution_count": null,
   "metadata": {},
   "outputs": [],
   "source": [
    "# TODO: Examine the head of the Georgia dataset \n"
   ]
  },
  {
   "cell_type": "code",
   "execution_count": null,
   "metadata": {},
   "outputs": [],
   "source": [
    "# TODO: Examine the head of the Florida dataset \n"
   ]
  },
  {
   "cell_type": "markdown",
   "metadata": {},
   "source": [
    "# 📊 Section Two: Plotting Quantitative Data\n",
    "For starters, we'll start with some of the most common plots for some of the most common data types: quantitative data. This data deals with independent and dependent variables; we recommend you check out the video below on independent and dependent variables to learn more about them. "
   ]
  },
  {
   "cell_type": "code",
   "execution_count": null,
   "metadata": {
    "scrolled": true,
    "tags": [
     "remove-input"
    ]
   },
   "outputs": [],
   "source": [
    "%%html\n",
    "`<iframe width=\"560\" height=\"315\" src=\"https://www.youtube.com/embed/l0jTMDtX4WY\" frameborder=\"0\" allow=\"accelerometer; autoplay; clipboard-write; encrypted-media; gyroscope; picture-in-picture\" allowfullscreen></iframe>`"
   ]
  },
  {
   "cell_type": "markdown",
   "metadata": {},
   "source": [
    "### Line Chart \n",
    "A **line chart**  plots the relationship between two variables as a collection of lines connecting points. Line charts are very useful when dealing with data collected over a time period, and we want to view how that data changes over time"
   ]
  },
  {
   "cell_type": "code",
   "execution_count": null,
   "metadata": {},
   "outputs": [],
   "source": [
    "plt.plot(florida_data['date'], florida_data['death'])\n",
    "plt.show()"
   ]
  },
  {
   "cell_type": "markdown",
   "metadata": {},
   "source": [
    "### Histogram\n",
    "A **histogram** tells us how much data falls into a certain range of numbers. Say we wanted to examine the frequency of all names. Think of a histogram as a collection of bar graphs whose heights are determined by how many values fall into certain **bins**. We can use a histogram instead of a line chart this time to view how the data is **distributed**. "
   ]
  },
  {
   "cell_type": "code",
   "execution_count": null,
   "metadata": {},
   "outputs": [],
   "source": [
    "plt.hist(florida_data['deathIncrease'])\n",
    "plt.show()"
   ]
  },
  {
   "cell_type": "markdown",
   "metadata": {},
   "source": [
    "## Plotting Categorical Data\n",
    "Though you may not see this type of data as much as quantitative data in scientific datasets, it is nonetheless equally important to understand some of the best ways to visualize categorical data. As we mentioned for quantitative data, feel free to check out the previous notebook if you need a refresher for what categorical data is. "
   ]
  },
  {
   "cell_type": "markdown",
   "metadata": {},
   "source": [
    "### Bar Chart\n",
    "A bar chart tells us how much of a categorical variable makes up a certain value. Let's try plotting how many COVID cases in Georgia were from each sex. Notice how we select the data below. "
   ]
  },
  {
   "cell_type": "code",
   "execution_count": null,
   "metadata": {},
   "outputs": [],
   "source": [
    "georgia_races = georgia_data.groupby('race').sum()"
   ]
  },
  {
   "cell_type": "code",
   "execution_count": null,
   "metadata": {},
   "outputs": [],
   "source": [
    "plt.bar(georgia_races.index, georgia_races['cases'])\n",
    "plt.show()"
   ]
  },
  {
   "cell_type": "markdown",
   "metadata": {},
   "source": [
    "### Pie Chart\n",
    "A **pie chart** is useful for showing us what percentage of a total that a categorical variable makes up. For our pie chart, we'll go ahead and show the breakdown of COVID cases by sex for Hispanic/Latinx people in Georgia."
   ]
  },
  {
   "cell_type": "code",
   "execution_count": null,
   "metadata": {},
   "outputs": [],
   "source": [
    "georgia_hisp = georgia_data[(georgia_data['ethnicity'] == 'Hispanic/ Latino')].groupby('sex').sum()"
   ]
  },
  {
   "cell_type": "code",
   "execution_count": null,
   "metadata": {},
   "outputs": [],
   "source": [
    "plt.pie(georgia_hisp['cases'], labels=georgia_hisp.index)\n",
    "plt.show()"
   ]
  },
  {
   "cell_type": "markdown",
   "metadata": {},
   "source": [
    "## 😍 Section Three: Making Breathtaking Plots \n",
    "There's one thing you may have noticed about the plots above: they all look extremely boring. And awful. There's not a whole lot going on, and the plots themselves don't tell us a lot about the data itself. What's being plotted? What does each **axis** represent?"
   ]
  },
  {
   "cell_type": "markdown",
   "metadata": {},
   "source": [
    "### Adding Labels\n",
    "One of the most important things to do when plotting data is to label your plot. The plots that we've worked with so far today have had two dimensions: the **x-axis** and the **y-axis**.We can add a title using the ``.title()`` method, an x-axis label using the ``.xlabel()`` method, and a y-label using the ``.ylabel()`` method. Here's the before:"
   ]
  },
  {
   "cell_type": "code",
   "execution_count": null,
   "metadata": {},
   "outputs": [],
   "source": [
    "plt.plot(florida_data['date'], florida_data['death'])\n",
    "plt.show()"
   ]
  },
  {
   "cell_type": "markdown",
   "metadata": {},
   "source": [
    "And here's the after:"
   ]
  },
  {
   "cell_type": "code",
   "execution_count": null,
   "metadata": {},
   "outputs": [],
   "source": [
    "plt.plot(florida_data['date'], florida_data['death'])\n",
    "plt.title('Date versus Number of COVID Deaths in Florida')\n",
    "plt.xlabel('Date')\n",
    "plt.ylabel('Cumulative Deaths')\n",
    "plt.show()"
   ]
  },
  {
   "cell_type": "markdown",
   "metadata": {},
   "source": [
    "One last thing we'll do is to limit the number of labels on each axis. As you can see above, there are way too many overlapping labels to be able to read each date. Using the plot from above, we can achieve this using the xticks() method."
   ]
  },
  {
   "cell_type": "code",
   "execution_count": null,
   "metadata": {},
   "outputs": [],
   "source": [
    "plt.plot(florida_data['date'], florida_data['death'])\n",
    "plt.title('Date versus Number of COVID Deaths in Florida')\n",
    "plt.xlabel('Date')\n",
    "plt.ylabel('Cumulative Deaths')\n",
    "locs, labels = plt.xticks()\n",
    "plt.xticks(locs[0::80], rotation=20)\n",
    "plt.show()"
   ]
  },
  {
   "cell_type": "markdown",
   "metadata": {},
   "source": [
    "### Adding Plot Styles \n",
    "As you can tell, our plots are pretty, well, boring. They let us explore our data pretty well, but they're just not that visually appealing. To fix this, we can use plot styles. To achieve this, we must use ``plt.style.context()``. \n",
    "\n",
    "My personal favorites are the fivethirtyeight and seaborn styles. These styles are nods to two different organizations. [FiveThirtyEight](https://fivethirtyeight.com) is a website that discusses statistics for nearly every topic, especially politics, economics, and sports. Their unique style for creating plots can be used in python by calling `plt.style.use('fivethirtyeight')`. \n",
    "\n",
    "\n",
    "![Five Thirty Eight Super Bowl Plot](https://fivethirtyeight.com/wp-content/uploads/2019/01/paine-superbowlduds-1.png?w=575)"
   ]
  },
  {
   "cell_type": "markdown",
   "metadata": {},
   "source": [
    "[Seaborn](https://seaborn.pydata.org/) is another Python package that is capable of creating advanced data plots. The kind of plots you can create with the Seaborn library are pretty neat, though pretty tricky if you're just starting out. Luckily, we can use their unique and appealing style without having to use the package itself by calling `plt.style.use('seaborn')`.\n",
    "\n",
    "![Seaborn Plot](https://seaborn.pydata.org/_images/regression_marginals.png)\n",
    "\n",
    "For a complete list of the available styles, be sure to check out [this website](https://matplotlib.org/3.2.1/gallery/style_sheets/style_sheets_reference.html). We'll start by changing our plot to the seaborn style."
   ]
  },
  {
   "cell_type": "code",
   "execution_count": null,
   "metadata": {},
   "outputs": [],
   "source": [
    "with plt.style.context('seaborn'):\n",
    "    plt.plot(data['date'], data['death'])\n",
    "    plt.show()"
   ]
  },
  {
   "cell_type": "markdown",
   "metadata": {},
   "source": [
    "Wow, our plots are already looking much better than before! What if we want to use the fivethirtyeight style? "
   ]
  },
  {
   "cell_type": "code",
   "execution_count": null,
   "metadata": {},
   "outputs": [],
   "source": [
    "with plt.style.context('fivethirtyeight'):\n",
    "    plt.plot(data['date'], data['death'])\n",
    "    plt.show()"
   ]
  },
  {
   "cell_type": "markdown",
   "metadata": {},
   "source": [
    "Last but not least, let's use the ``.figure()`` method to tell matplotlib we want to make our figure bigger. Let's start by making our plot 20 inches by 5 inches."
   ]
  },
  {
   "cell_type": "code",
   "execution_count": null,
   "metadata": {},
   "outputs": [],
   "source": [
    "with plt.style.context('seaborn'):\n",
    "    plt.figure(figsize=(20, 5))\n",
    "    plt.bar(georgia_races.index, georgia_races['cases'])\n",
    "    plt.title('COVID Cases in Georgia, by Race')\n",
    "    plt.xlabel('Race')\n",
    "    plt.ylabel('Cases')\n",
    "    plt.show()"
   ]
  },
  {
   "cell_type": "markdown",
   "metadata": {},
   "source": [
    "# ✏️ Practice\n",
    "Great job today, we definitely threw a lot of information at you. That being said, make sure to practice to perfect your Python plotting skills. For today's practice assignment, we'll give you a lot of lee-way into determining which plot you want to create. Just be sure to justify why you're using that plot in particular. For example, if your data is primarily quantitative, and you want to compare two quantitative variables, you could use a histogram. Let's start by importing our data"
   ]
  },
  {
   "cell_type": "code",
   "execution_count": null,
   "metadata": {},
   "outputs": [],
   "source": [
    "plt.style.use('default')"
   ]
  },
  {
   "cell_type": "markdown",
   "metadata": {},
   "source": [
    "### **Question One** \n",
    "Create a line chart, showing the date on the x-axis and the increase in hospitalizations on the y-axis. Use the Florida dataset."
   ]
  },
  {
   "cell_type": "code",
   "execution_count": null,
   "metadata": {},
   "outputs": [],
   "source": [
    "# TODO: Plot your data\n"
   ]
  },
  {
   "cell_type": "markdown",
   "metadata": {},
   "source": [
    "### **Question Two** \n",
    "Recreate the plot from above, but this time, label your axes and provide a title. For the date axis, use \"Date\". For the hospitalizations axis, use \"Hospitalizations\". For the plot title, use \"Increase in Hospitalizations in Florida\"."
   ]
  },
  {
   "cell_type": "code",
   "execution_count": null,
   "metadata": {},
   "outputs": [],
   "source": [
    "# TODO: Plot your data\n"
   ]
  },
  {
   "cell_type": "markdown",
   "metadata": {},
   "source": [
    "### **Question Three** \n",
    "Let's go ahead and create a bar chart, grouping Georgia COVID-19 cases by ethnicity. This problem involves two steps. First group your data into the variable *georgia_ethnicity*. Then, go ahead and create a bar chart of this data. Be sure to label your axes: for the counts axis, use the label \"Cases\". For the ethnicities axis, use the label \"Ethnicities\". For the title, use \"COVID-19 Cases per Ethnicity in Georgia\". "
   ]
  },
  {
   "cell_type": "code",
   "execution_count": null,
   "metadata": {},
   "outputs": [],
   "source": [
    "# TODO: Group the data into the variable \"georgia_ethnicity\"\n"
   ]
  },
  {
   "cell_type": "code",
   "execution_count": null,
   "metadata": {},
   "outputs": [],
   "source": [
    "# TODO\" Plot the number of cases for each ethnicity in the \"georgia_ethnicity\" group\n"
   ]
  },
  {
   "cell_type": "markdown",
   "metadata": {},
   "source": [
    "### **Question Four** \n",
    "Finally, let's go ahead and create a pie chart for our data, showing the spread of cases between Females of each race. This problem involves two steps. First, sort and group your data into the variable *georgia_female_race*. Make sure to sum over each group to obtain the total number of cases. Then, go ahead and create a pie chart of this data. Be sure to add a title to your plot: use \"Distribution of Female COVID-19 Cases per Race in Georgia\". Also, be sure to include the labels for each race."
   ]
  },
  {
   "cell_type": "code",
   "execution_count": null,
   "metadata": {},
   "outputs": [],
   "source": [
    "# TODO: Group the data into the variable \"georgia_female_race\"\n"
   ]
  },
  {
   "cell_type": "code",
   "execution_count": null,
   "metadata": {},
   "outputs": [],
   "source": [
    "# TODO\" Plot the number of cases for each race in the \"georgia_female_race\" group\n"
   ]
  },
  {
   "cell_type": "markdown",
   "metadata": {},
   "source": [
    "## 🏅Challenge\n",
    "Time for the challenge question! This one will require you to do a bit of investigating the matplotlib package for yourself. For this, we're going to plot Florida COVID data on one plot. We'll plot both Florida daily death increases, as well as Florida hospitalization increases. \n",
    "\n",
    "Make sure to plot the deaths in the color black, and the hospitalizations in the color red. Furthermore, we'll go ahead and include a plot legend using ``plt.legend()``. Be sure to pass in the *label* argument when creating each line plot: for the death line plot, use the label \"Deaths\", and for the hospitalized line plot, use the label \"Hospitalized\" \n",
    "\n",
    "Finally, make sure to label your axes. Label the date axis with \"Date\", the count axis with \"Count\", and add the title \"Deaths versus Hospitalizations in Florida\""
   ]
  },
  {
   "cell_type": "code",
   "execution_count": null,
   "metadata": {},
   "outputs": [],
   "source": [
    "# TODO: Create the unique data plot\n"
   ]
  },
  {
   "cell_type": "markdown",
   "metadata": {},
   "source": [
    "Okay that's all we have for this week. Please feel free to reach out to us through email or attend our weekly Office Hours for questions or help on the practice problems. Again, we've attached a useful cheat sheet to show you how to perform some common tricks in matplotlib"
   ]
  },
  {
   "cell_type": "code",
   "execution_count": null,
   "metadata": {},
   "outputs": [],
   "source": [
    "%%html\n",
    "<iframe id=\"fred\" style=\"border:1px solid #666CCC\" title=\"PDF in an i-Frame\" src=\"https://s3.amazonaws.com/assets.datacamp.com/blog_assets/Python_Matplotlib_Cheat_Sheet.pdf\" frameborder=\"1\" scrolling=\"auto\" height=\"850\" width=\"1100\" ></iframe>"
   ]
  },
  {
   "cell_type": "code",
   "execution_count": null,
   "metadata": {},
   "outputs": [],
   "source": []
  }
 ],
 "metadata": {
  "kernelspec": {
   "display_name": "Python 3",
   "language": "python",
   "name": "python3"
  },
  "language_info": {
   "codemirror_mode": {
    "name": "ipython",
    "version": 3
   },
   "file_extension": ".py",
   "mimetype": "text/x-python",
   "name": "python",
   "nbconvert_exporter": "python",
   "pygments_lexer": "ipython3",
   "version": "3.7.8"
  }
 },
 "nbformat": 4,
 "nbformat_minor": 4
}
