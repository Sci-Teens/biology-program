{
 "cells": [
  {
   "cell_type": "markdown",
   "metadata": {},
   "source": [
    "## Introduction to Plotting Data\n",
    "Congrats, you've made it to week three! This week will be awesome for those of you who are more artistically inclined, as we will be exploring different ways to visualise data. \n",
    "\n",
    "![Stonks](https://media.giphy.com/media/YnkMcHgNIMW4Yfmjxr/giphy.gif)"
   ]
  },
  {
   "cell_type": "markdown",
   "metadata": {},
   "source": [
    "## Importing Packages\n",
    "Let's go ahead and import the necessary packages. As we did last time, we'll go ahead and import NumPy and Pandas again. However, we'll also be importing **Matplotlib**. Matplotlib is a package that allows us to plot data from either NumPy or Pandas. As we'll soon see, many of the plotting techniques within Matplotlib are dead simple. Even better, we can customize our plots to our liking; we can set the color, title, labels, width, and so on for each of our plots! You may notice a new special command ``%matplotlib inline`` below where we import our packages. This is called a **magic command**, and is used to tell Jupyter Notebooks to do certain things. In this case, we're simply telling Jupyter to show our graphs below our code. "
   ]
  },
  {
   "cell_type": "code",
   "execution_count": null,
   "metadata": {},
   "outputs": [],
   "source": [
    "import matplotlib.pyplot as plt \n",
    "import pandas as pd \n",
    "import numpy as np\n",
    "\n",
    "%matplotlib inline"
   ]
  },
  {
   "cell_type": "markdown",
   "metadata": {},
   "source": [
    "## Getting our Data\n",
    "For this lesson, we'll be working with some non-scientific data: baby names. The data we'll download below includes information on the State, the Sex, the Year, the Name, and the Count of the total number of babies born with that name. Don't just take my word for it though; try checking out the first five and last five values of the dataset below. \n",
    "\n",
    "**NOTE:** Shoutout to the United States Social Security Administration, as well as the University of California, Berkley, for the data!"
   ]
  },
  {
   "cell_type": "code",
   "execution_count": null,
   "metadata": {},
   "outputs": [],
   "source": [
    "data = pd.read_csv('https://raw.githubusercontent.com/Sci-Teens/course-one/main/data/baby_names.csv')"
   ]
  },
  {
   "cell_type": "code",
   "execution_count": null,
   "metadata": {},
   "outputs": [],
   "source": [
    "# TODO: Examine the first five values \n"
   ]
  },
  {
   "cell_type": "code",
   "execution_count": null,
   "metadata": {},
   "outputs": [],
   "source": [
    "# TODO: Examine the last five values\n"
   ]
  },
  {
   "cell_type": "markdown",
   "metadata": {},
   "source": [
    "## Plotting Quantitative Data\n",
    "For starters, we'll start with some of the most common plots for some of the most common data types: quantitative data. We discussed quantitative data in the last notebook, so be sure to [check it out](https://colab.research.google.com/github/Sci-Teens/course-one/blob/main/lessons/2_introduction_to_data_processing.ipynb) if you need a refresher.  \n",
    "The plots that we'll be creating today will have two **axis**, or dimensions in which our data is arranged. The plots below have two axis, the **x-axis** and the **y-axis**. The x-axis refers to the axis that is horizontal on the plot, whereas the y-axis is vertical on the plot. The most important concept with plot axis is where to place each data. In general, **independent** data lies on the x-axis, whereas **dependent** data lies on the y-axis. We recommend you check out [this tutorial](https://www.khanacademy.org/math/cc-sixth-grade-math/cc-6th-equations-and-inequalities/cc-6th-dependent-independent/a/dependent-and-independent-variables-review) or [this video](https://www.youtube.com/watch?v=l0jTMDtX4WY) on independent and dependent variables to learn more about them. "
   ]
  },
  {
   "cell_type": "markdown",
   "metadata": {},
   "source": [
    "Before we get into the bulk of the different types of plotting, we should consider the benefits of visualizing our data in the first place. Often times, as scientists, we will be working the data that a lot of the public finds boring or difficult to interpret. If we want to effectively communicate our results, we'll need to pick which visualization is the best for your data. While we won't go into the specifics of how to decide which type of plot is the best for your data, we do want to introduce you into some of the common ways you'll see data visualized."
   ]
  },
  {
   "cell_type": "markdown",
   "metadata": {},
   "source": [
    "### Line Chart \n",
    "Arguably the most common plot that you'll encounter or use, a **line chart** simply plots the relationship between two variables as a collection of lines connecting points. Line charts are very useful when dealing with data collected over a time period, and we want to view how that data changes over time. For example, say we wanted to view the popularity of the name \"Olivia\" from 2015 to 2019 in the state of New York. We could do so using the code below.  \n",
    "\n",
    "**Note:** Even though the *Name* column contains categorical data, we are instead plotting the *Count*, or total amount of people named Olivia between2015 and 2019. Thus, we are only plotting quantitative data. "
   ]
  },
  {
   "cell_type": "code",
   "execution_count": null,
   "metadata": {},
   "outputs": [],
   "source": [
    "olivias_ny = data.loc[(data['Name'] == 'Olivia') & (data['State'] == 'NY')]\n",
    "plt.plot(olivias_ny['Year'], olivias_ny['Count'])\n",
    "plt.show()"
   ]
  },
  {
   "cell_type": "markdown",
   "metadata": {},
   "source": [
    "### Histogram\n",
    "A **histogram** tells us how much data falls into a certain range of numbers. Say we wanted to examine the frequency of all names. Think of a histogram as a collection of bar graphs whose heights are determined by how many values fall into certain **bins**. We can use a histogram instead of a line chart this time to view how the data is **distributed**. If you want to be able to look at how the data is spread out over many values, histograms are definitely the way to go. We'll go more into depth about why histograms are useful in our lesson covering statistical testing, but just know that histograms are especially useful for telling us about the general shape of our data. "
   ]
  },
  {
   "cell_type": "code",
   "execution_count": null,
   "metadata": {},
   "outputs": [],
   "source": [
    "plt.hist(data['Count'])\n",
    "plt.show()"
   ]
  },
  {
   "cell_type": "markdown",
   "metadata": {},
   "source": [
    "Woah, it looks like there's only one bar on the graph. However, this isn't the case; It just so happens the more babies are named unpopular names then there are babies that are named popular names. Sound confusing? Let's check out how many babies were named with names in which less than 100 other babies were named. "
   ]
  },
  {
   "cell_type": "code",
   "execution_count": null,
   "metadata": {},
   "outputs": [],
   "source": [
    "unique_names = data[data['Count'] < 100]\n",
    "plt.hist(unique_names['Count'])\n",
    "plt.show()"
   ]
  },
  {
   "cell_type": "markdown",
   "metadata": {},
   "source": [
    "As you can see, there were over 250,000 babies with names that fewer than 10 other babies were also named! We can confirm this by taking the mean of the counts column for our data"
   ]
  },
  {
   "cell_type": "code",
   "execution_count": null,
   "metadata": {},
   "outputs": [],
   "source": [
    "np.mean(data['Count'])"
   ]
  },
  {
   "cell_type": "markdown",
   "metadata": {},
   "source": [
    "As you can see, on average, there were only roughly 32 other babies with the same name for any given name. Who would've thought? As we previously mentioned, we'll cover next lesson why histograms are so useful for capturing key statistical insights into our data."
   ]
  },
  {
   "cell_type": "markdown",
   "metadata": {},
   "source": [
    "## Plotting Categorical Data\n",
    "Though you may not see this type of data as much as quantitative data in scientific datasets, it is nonetheless equally important to understand some of the best ways to visualize categorical data. As we mentioned for quantitative data, feel free to check out the previous notebook if you need a refresher for what categorical data is. "
   ]
  },
  {
   "cell_type": "markdown",
   "metadata": {},
   "source": [
    "### Bar Chart\n",
    "A bar chart tells us how much of a categorical variable makes up a certain value. Say we wanted to plot the top fifteen girl girl names in the state of Wyoming for 2016. We could do so with the code below"
   ]
  },
  {
   "cell_type": "code",
   "execution_count": null,
   "metadata": {},
   "outputs": [],
   "source": [
    "girls_wyoming_2016 = data.loc[(data['Year'] == 2016) & (data['State'] == 'WY') & (data['Sex'] == 'F')]\n",
    "plt.bar(girls_wyoming_2016['Name'][:15], girls_wyoming_2016['Count'][:15])\n",
    "plt.show()"
   ]
  },
  {
   "cell_type": "markdown",
   "metadata": {},
   "source": [
    "Well, it worked (sorta...) The thing is, we can't read any of the names on the x-axis! No worries, we'll show you how to clean this up in the section \"Making Plots Dope.\" "
   ]
  },
  {
   "cell_type": "markdown",
   "metadata": {},
   "source": [
    "### Pie Chart\n",
    "A **pie chart** is useful for showing us what percentage of a total that a categorical variable makes up. We'll use the same data as above (girl names in Wyoming for the year of 2016), but this time we'll only use the top four names."
   ]
  },
  {
   "cell_type": "code",
   "execution_count": null,
   "metadata": {},
   "outputs": [],
   "source": [
    "plt.pie(girls_wyoming_2016['Count'][0:4], labels=girls_wyoming_2016['Name'][0:4])\n",
    "plt.show()"
   ]
  },
  {
   "cell_type": "markdown",
   "metadata": {},
   "source": [
    "If we were to use all of the names, we see that the plot quickly becomes unreadable, and doesn't tell us much about how less common names compare to one another since all the wedges look nearly identical"
   ]
  },
  {
   "cell_type": "code",
   "execution_count": null,
   "metadata": {},
   "outputs": [],
   "source": [
    "plt.pie(girls_wyoming_2016['Count'], labels=girls_wyoming_2016['Name'])\n",
    "plt.show()"
   ]
  },
  {
   "cell_type": "markdown",
   "metadata": {},
   "source": [
    "## Making Plots Awesome \n",
    "There's one thing you may have noticed about the plots above: they all look extremely boring. And awful. There's not a whole lot going on, and the plots themselves don't tell us a lot about the data itself. What's being plotted? What does each **axis** represent? Luckily, we can easily customize these plots to make them look fire."
   ]
  },
  {
   "cell_type": "markdown",
   "metadata": {},
   "source": [
    "### Adding Labels\n",
    "One of the most important things to do when plotting data is to label your plot. The plots that we've worked with so far today have had two dimensions: the **x-axis** and the **y-axis**. Going back to the first line plot that we created, we can see that there's no clear definition of what our data represents. To fix this, we'll add axis labels and a title. We can add a title using the ``.title()`` method, an x-axis label using the ``.xlabel()`` method, and a y-label using the ``.ylabel()`` method. Here's the before:"
   ]
  },
  {
   "cell_type": "code",
   "execution_count": null,
   "metadata": {},
   "outputs": [],
   "source": [
    "olivias_ny = data.loc[(data['Name'] == 'Olivia') & (data['State'] == 'NY')]\n",
    "plt.plot(olivias_ny['Year'], olivias_ny['Count'])\n",
    "plt.show()"
   ]
  },
  {
   "cell_type": "markdown",
   "metadata": {},
   "source": [
    "And here's the after:"
   ]
  },
  {
   "cell_type": "code",
   "execution_count": null,
   "metadata": {},
   "outputs": [],
   "source": [
    "olivias_ny = data.loc[(data['Name'] == 'Olivia') & (data['State'] == 'NY')]\n",
    "plt.plot(olivias_ny['Year'], olivias_ny['Count'])\n",
    "plt.title('Olivias Born in New York Between 2015 and 2019')\n",
    "plt.xlabel('Year')\n",
    "plt.ylabel('Number of Olivias')\n",
    "plt.show()"
   ]
  },
  {
   "cell_type": "markdown",
   "metadata": {},
   "source": [
    "Looks much better already. Remember the Wyoming names data we had before? Let's try cleaning that up. For starters, we can go ahead and add a title and axis labels. We also want to rotate the names on the x-axis so that they don't overlap one another. To do this, we can use the ``.xticks()`` method, which allows us to specify how we want our \"ticks to appear.\" in our case, we want to rotate them 90 degrees so that they appear vertical. The code to do that is provided below. Go ahead and set the title, x-axis, and y-axis yourself. "
   ]
  },
  {
   "cell_type": "code",
   "execution_count": null,
   "metadata": {},
   "outputs": [],
   "source": [
    "girls_wyoming_2016 = data.loc[(data['Year'] == 2016) & (data['State'] == 'WY') & (data['Sex'] == 'F')]\n",
    "plt.bar(girls_wyoming_2016['Name'][:15], girls_wyoming_2016['Count'][:15])\n",
    "# TODO: Add a title, as well as axis labels\n",
    "\n",
    "plt.xticks(rotation=90)\n",
    "plt.show()"
   ]
  },
  {
   "cell_type": "markdown",
   "metadata": {},
   "source": [
    "Our plot is looking much better, we can actually read the names now!"
   ]
  },
  {
   "cell_type": "markdown",
   "metadata": {},
   "source": [
    "### Adding Plot Styles \n",
    "As you can tell, our plots are pretty, well, boring. They let us explore our data pretty well, but they're just not that visually appealing. To fix this, we can use plot styles. To achieve this, we must use ``plt.style.use``. \n",
    "\n",
    "My personal favorites are the fivethirtyeight and seaborn styles. These styles are nods to two different organizations. [FiveThirtyEight](https://fivethirtyeight.com) is a website that discusses statistics for nearly every topic, especially politics, economics, and sports. Their unique style for creating plots can be used in python by calling `plt.style.use('fivethirtyeight')`. \n",
    "\n",
    "![Five Thirty Eight Super Bowl Plot](https://fivethirtyeight.com/wp-content/uploads/2019/01/paine-superbowlduds-1.png?w=575)\n",
    "\n",
    "[Seaborn](https://seaborn.pydata.org/) is another Python package that is capable of creating advanced data plots. The kind of plots you can create with the Seaborn library are pretty neat, though pretty tricky if you're just starting out. Luckily, we can use their unique and appealing style without having to use the package itself by calling `plt.style.use('seaborn')`.\n",
    "\n",
    "![Seaborn Plot](https://seaborn.pydata.org/_images/regression_marginals.png)\n",
    "\n",
    "For a complete list of the available styles, be sure to check out [this website](https://matplotlib.org/3.2.1/gallery/style_sheets/style_sheets_reference.html). We'll start by changing our plot to the seaborn style.\n",
    "\n",
    "**Note:** when you call ``plt.style.use()``, it sets all plots created after that code to the same style as well. To stop this from occuring, just call ``plt.style.use('default')`` in a follow-up cell. "
   ]
  },
  {
   "cell_type": "code",
   "execution_count": null,
   "metadata": {},
   "outputs": [],
   "source": [
    "plt.style.use('seaborn')\n",
    "olivias_ny = data.loc[(data['Name'] == 'Olivia') & (data['State'] == 'NY')]\n",
    "plt.plot(olivias_ny['Year'], olivias_ny['Count'])\n",
    "plt.title('Olivias Born in New York Between 2015 and 2019')\n",
    "plt.xlabel('Year')\n",
    "plt.ylabel('Number of Olivias')\n",
    "plt.show()"
   ]
  },
  {
   "cell_type": "markdown",
   "metadata": {},
   "source": [
    "Wow, our plots are already looking much better than before! What if we want to use the fivethirtyeight style? "
   ]
  },
  {
   "cell_type": "code",
   "execution_count": null,
   "metadata": {},
   "outputs": [],
   "source": [
    "plt.style.use('fivethirtyeight')\n",
    "olivias_ny = data.loc[(data['Name'] == 'Olivia') & (data['State'] == 'NY')]\n",
    "plt.plot(olivias_ny['Year'], olivias_ny['Count'])\n",
    "plt.title('Olivias Born in New York Between 2015 and 2019')\n",
    "plt.xlabel('Year')\n",
    "plt.ylabel('Number of Olivias')\n",
    "plt.show()"
   ]
  },
  {
   "cell_type": "markdown",
   "metadata": {},
   "source": [
    "How about we try this out for our girls names in Wyoming plot? Let's see if it helps. "
   ]
  },
  {
   "cell_type": "code",
   "execution_count": null,
   "metadata": {},
   "outputs": [],
   "source": [
    "plt.style.use('seaborn')\n",
    "girls_wyoming_2016 = data.loc[(data['Year'] == 2016) & (data['State'] == 'WY') & (data['Sex'] == 'F')]\n",
    "plt.bar(girls_wyoming_2016['Name'][:15], girls_wyoming_2016['Count'][:15])\n",
    "plt.title('Girl Names in Wyoming for 2016')\n",
    "plt.xlabel('Name')\n",
    "plt.ylabel('Count')\n",
    "plt.xticks(rotation=90)\n",
    "plt.show()"
   ]
  },
  {
   "cell_type": "markdown",
   "metadata": {},
   "source": [
    "It looks good, though it seems a bit large. Let's use the ``.figure()`` method to tell matplotlib we want to make our figure bigger. Let's start by making our plot 10 inches by 10 inches. **Note** you must put the ``.figure()`` method at the top of your code, before you plot a chart, in order for it to work. "
   ]
  },
  {
   "cell_type": "code",
   "execution_count": null,
   "metadata": {},
   "outputs": [],
   "source": [
    "plt.figure(figsize=(5,5))\n",
    "\n",
    "girls_wyoming_2016 = data.loc[(data['Year'] == 2016) & (data['State'] == 'WY') & (data['Sex'] == 'F')]\n",
    "plt.bar(girls_wyoming_2016['Name'][:15], girls_wyoming_2016['Count'][:15])\n",
    "plt.title('Girl Names in Wyoming for 2016')\n",
    "plt.xlabel('Name')\n",
    "plt.ylabel('Count')\n",
    "plt.xticks(rotation=90)\n",
    "plt.show()"
   ]
  },
  {
   "cell_type": "markdown",
   "metadata": {},
   "source": [
    "Now, data science wouldn't be all that useful if we weren't able to capture interesting insigts into our data. Say we wanted to examine how girl names have changed between 2016 and 2019 in Wyoming. Try plotting the top fifteen girl names in Wyoming in 2019 below, and compare it to the plot above. Try and make it identical in style to the plot above. "
   ]
  },
  {
   "cell_type": "code",
   "execution_count": null,
   "metadata": {},
   "outputs": [],
   "source": [
    "# TODO: Plot the top fifteen girl names in Wyoming\n",
    "plt.figure(figsize=(5,5))\n",
    "\n",
    "girls_wyoming_2019 = # Find the girls names from 2019 in Wyoming \n",
    "plt.bar()\n",
    "plt.show()"
   ]
  },
  {
   "cell_type": "markdown",
   "metadata": {},
   "source": [
    "Great work! There are plenty of other things that we can do to style our plots. In the sake of keeping this lesson relatively simple, we'll avoid discussing these topics. If you're interested in seeing how else you can customize your plots, or what other plots you can create, be sure to check out the [matplotlib plot gallery](https://matplotlib.org/gallery/index.html) for inspiration. "
   ]
  },
  {
   "cell_type": "markdown",
   "metadata": {},
   "source": [
    "## Practice\n",
    "Great job today, we definitely threw a lot of information at you. That being said, make sure to practice to perfect your Python plotting skills. For today's practice assignment, we'll give you a lot of lee-way into determining which plot you want to create. Just be sure to justify why you're using that plot in particular. For example, if your data is primarily quantitative, and you want to compare two quantitative variables, you could use a histogram. Let's start by importing our data"
   ]
  },
  {
   "cell_type": "code",
   "execution_count": null,
   "metadata": {},
   "outputs": [],
   "source": [
    "variable_name = \"Ebola Virus Outbreak\" #@param [\"Wildfires and Bird Migration\", \"Yearly Carbon Fluctuations\", \"Ebola Virus Outbreak\"]\n",
    "lessons = {\n",
    "    \"Ebola Virus Outbreak\": \"https://raw.githubusercontent.com/Sci-Teens/course-one/main/data/ebola.csv\",\n",
    "    \"Wildfires and Bird Migration\": \"https://raw.githubusercontent.com/Sci-Teens/course-one/main/data/bird_counts_grsm.csv\",\n",
    "    \"Mosquito Counts\": \"https://raw.githubusercontent.com/Sci-Teens/course-one/main/data/mosquito.csv\"\n",
    "}\n",
    "\n",
    "dataset = lessons[variable_name]"
   ]
  },
  {
   "cell_type": "code",
   "execution_count": null,
   "metadata": {},
   "outputs": [],
   "source": [
    "plt.style.use('default')\n",
    "\n",
    "data = pd.read_csv(dataset)\n",
    "data.head()"
   ]
  },
  {
   "cell_type": "markdown",
   "metadata": {},
   "source": [
    "**Question One** What columns of your dataset do you plan on plotting. What values from these columns will you keep in particular (do you plan on sorting the columns, or will you plot the entire column?) What plot (from the ones that we learned today) will you use to examine the data? Why do you think this plot is the best plot to use for this data? "
   ]
  },
  {
   "cell_type": "code",
   "execution_count": null,
   "metadata": {},
   "outputs": [],
   "source": [
    "# Write your answer here\n"
   ]
  },
  {
   "cell_type": "markdown",
   "metadata": {},
   "source": [
    "**Question Two** Go ahead and plot your data. For now, there's no need to include any axis labels or titles "
   ]
  },
  {
   "cell_type": "code",
   "execution_count": null,
   "metadata": {},
   "outputs": [],
   "source": [
    "# TODO: Plot your data\n"
   ]
  },
  {
   "cell_type": "markdown",
   "metadata": {},
   "source": [
    "**Question Three** Go ahead and plot your data again. This time, set the x-axis and y-axis labels for your data, as well as the title for your plot. "
   ]
  },
  {
   "cell_type": "code",
   "execution_count": null,
   "metadata": {},
   "outputs": [],
   "source": [
    "# TODO: Plot your data, but with x-axis and y-axis labels and a title\n"
   ]
  },
  {
   "cell_type": "markdown",
   "metadata": {},
   "source": [
    "**Question Four** Go ahead replot your data with all labels and titles, but this time, using a different style"
   ]
  },
  {
   "cell_type": "code",
   "execution_count": null,
   "metadata": {},
   "outputs": [],
   "source": [
    "# TODO: Choose a different plot style for your data\n"
   ]
  },
  {
   "cell_type": "markdown",
   "metadata": {},
   "source": [
    "### Challenge\n",
    "Time for the challenge question! This one will require you to do a bit of investigating the matplotlib package for yourself. For this, we're to create one of the plots from the [Matplotlib plot gallery](https://matplotlib.org/gallery/index.html) that we haven't already explored in today's lesson. Choose a plot from the gallery, and explain why you're using it to explore your data. Then, go ahead and plot the data. Be sure to include axis labels, as well as a title. You don't have to use the same data columns that you used for questions one and four!"
   ]
  },
  {
   "cell_type": "code",
   "execution_count": null,
   "metadata": {},
   "outputs": [],
   "source": [
    "# TODO\" Use a unique plot for your data\n"
   ]
  },
  {
   "cell_type": "markdown",
   "metadata": {},
   "source": [
    "For practice, take a look at the graph below. Can you tell how many variables we are representing? <BR>*Hint: look at the size, color, and location of our data points*"
   ]
  },
  {
   "cell_type": "markdown",
   "metadata": {},
   "source": [
    "![./images/bubbles.png](https://raw.githubusercontent.com/Sci-Teens/course-one/main/Images/bubbles.png)"
   ]
  },
  {
   "cell_type": "code",
   "execution_count": null,
   "metadata": {},
   "outputs": [],
   "source": [
    "#Answer: 4 variables. X, Y, Area, Color"
   ]
  },
  {
   "cell_type": "markdown",
   "metadata": {},
   "source": [
    "Okay that's all we have for this week. Please feel free to reach out to us through email or attend our weekly Office Hours for questions or help on the practice problems."
   ]
  }
 ],
 "metadata": {
  "kernelspec": {
   "display_name": "Python 3",
   "language": "python",
   "name": "python3"
  },
  "language_info": {
   "codemirror_mode": {
    "name": "ipython",
    "version": 3
   },
   "file_extension": ".py",
   "mimetype": "text/x-python",
   "name": "python",
   "nbconvert_exporter": "python",
   "pygments_lexer": "ipython3",
   "version": "3.8.3"
  }
 },
 "nbformat": 4,
 "nbformat_minor": 4
}
