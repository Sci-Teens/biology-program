{
 "cells": [
  {
   "cell_type": "markdown",
   "metadata": {},
   "source": [
    "# Introduction to Data Science\n",
    "?? Should we include a snippet here about what data science is??  \n",
    "Welcome, and thanks for joining us for this course on working in Jupyter Notebook environments to process data. In this first lesson of our four-part series, we'll get you set up and running in a Jupyter Notebook environment. \n",
    "\n",
    "As we go, be sure to ask plenty of questions, and never hesitate to let us know if we're moving too quickly. "
   ]
  },
  {
   "cell_type": "markdown",
   "metadata": {},
   "source": [
    "Before we begin, let's give a quick overview of what we'll be learning in this course. This course is meant to be a quick 'soft' curriculum to get you initated with some of the basic concepts of the python coding language and data manipulation.\n",
    "We hope that what you'll learn this class will give you a solid foundation and jumping off point for you to continue research and grow your knowledge."
   ]
  },
  {
   "cell_type": "markdown",
   "metadata": {},
   "source": [
    "Generally, what we'll be teaching in this four-week curriculum is known as the field of Data Science. For those of you who don't know, Data Science is an interdisciplinary field that combines statistics, computer science, which is defined as: <br>\n",
    "**The application of data centric, computational, and inferential thinking to**\n",
    "1. Understand the world (science).\n",
    "2. Solve problems (engineering)\n"
   ]
  },
  {
   "cell_type": "markdown",
   "metadata": {},
   "source": [
    "## First Steps\n",
    "Now, it\\'s time to get started to check out what Jupyter Notebooks are all about. Jupyter Notebooks are, at their core, environments that allow us to code and **interpret** our code in real time. Though we're using Python for this series, there are many other languages that are typically used in notebooks as well: R, Julia, and Matlab, to name a few, all support Jupyter Notebook environments. Let's check out some basic things we can do, such as addition and multiplication"
   ]
  },
  {
   "cell_type": "code",
   "execution_count": null,
   "metadata": {},
   "outputs": [],
   "source": [
    "3 * 5"
   ]
  },
  {
   "cell_type": "code",
   "execution_count": null,
   "metadata": {},
   "outputs": [],
   "source": [
    "20 / 5"
   ]
  },
  {
   "cell_type": "markdown",
   "metadata": {},
   "source": [
    "Now, try this on your own!"
   ]
  },
  {
   "cell_type": "code",
   "execution_count": null,
   "metadata": {},
   "outputs": [],
   "source": [
    "# TODO: Add six and seven\n"
   ]
  },
  {
   "cell_type": "code",
   "execution_count": null,
   "metadata": {},
   "outputs": [],
   "source": [
    "# TODO: Multiply two by twenty-four\n"
   ]
  },
  {
   "cell_type": "code",
   "execution_count": null,
   "metadata": {},
   "outputs": [],
   "source": [
    "# TODO: Divide six by four \n"
   ]
  },
  {
   "cell_type": "code",
   "execution_count": null,
   "metadata": {},
   "outputs": [],
   "source": [
    "# TODO: Subtract twenty from seventeen\n"
   ]
  },
  {
   "cell_type": "markdown",
   "metadata": {},
   "source": [
    "Simple enough! Next, let's try creating a **variable**. A variable stores a value in a way which we can access it later. For example, if I set the variable *Name* to \"Brandon\" "
   ]
  },
  {
   "cell_type": "code",
   "execution_count": null,
   "metadata": {},
   "outputs": [],
   "source": [
    "Name = \"Brandon\""
   ]
  },
  {
   "cell_type": "markdown",
   "metadata": {},
   "source": [
    "I can then call *Name* later to access the value stored there"
   ]
  },
  {
   "cell_type": "code",
   "execution_count": null,
   "metadata": {},
   "outputs": [],
   "source": [
    "Name"
   ]
  },
  {
   "cell_type": "markdown",
   "metadata": {},
   "source": [
    "Try it yourself by setting the variable *seven* to the number seven."
   ]
  },
  {
   "cell_type": "code",
   "execution_count": null,
   "metadata": {},
   "outputs": [],
   "source": []
  },
  {
   "cell_type": "markdown",
   "metadata": {},
   "source": [
    "Great work! One of the last important concepts that we'll learn about today are **lists**. Lists allow us to store multiple values at once. Think of it like a grocery list; if we want to remember to buy Bananas, Captain Crunch, and Pasta, we could write it down as\n",
    "```\n",
    "Bananas,\n",
    "Captain Crunch,\n",
    "Pasta\n",
    "```\n",
    "We can achieve the same in Python!"
   ]
  },
  {
   "cell_type": "code",
   "execution_count": null,
   "metadata": {},
   "outputs": [],
   "source": [
    "groceries = ['Bananas', 'Captain Crunch', 'Pasta']"
   ]
  },
  {
   "cell_type": "markdown",
   "metadata": {},
   "source": [
    "Since we saved our list in a variable called *groceries*, we can check them out by running "
   ]
  },
  {
   "cell_type": "code",
   "execution_count": null,
   "metadata": {},
   "outputs": [],
   "source": [
    "groceries"
   ]
  },
  {
   "cell_type": "markdown",
   "metadata": {},
   "source": [
    "How about you try making your own shopping list similar to the one above?"
   ]
  },
  {
   "cell_type": "code",
   "execution_count": null,
   "metadata": {},
   "outputs": [],
   "source": [
    "# TODO: Create a shopping list with at least four items\n",
    "shopping_list = []"
   ]
  },
  {
   "cell_type": "markdown",
   "metadata": {},
   "source": [
    "Pretty sweet! Now this isn't to say that you should keep grocery lists as python lists from now on; I doubt you want to haul your computer to the store just to buy three things. But lists are one of the most important **collections** within Python when it comes to data science. Now let's see some of the cool things we can do with lists"
   ]
  },
  {
   "cell_type": "markdown",
   "metadata": {},
   "source": [
    "## Lists, Continued\n",
    "Since we're storing multiple values within one variable, it's important that we're able to access the individual values from the list. To get certain values, we can use **indexing**. Brace yourselves, because here comes a pretty tricky concept to remember. Python uses **Zero-based indexing**, which means that it starts counting from zero instead of from one. For example, to access the first item from the groceries list, we would use"
   ]
  },
  {
   "cell_type": "code",
   "execution_count": null,
   "metadata": {},
   "outputs": [],
   "source": [
    "groceries[0]"
   ]
  },
  {
   "cell_type": "markdown",
   "metadata": {},
   "source": [
    "This is pretty weird to understand at first, but it'll make more sense as you go on and practice. Try it out yourself by grabbing the third item from the grocery list"
   ]
  },
  {
   "cell_type": "code",
   "execution_count": null,
   "metadata": {},
   "outputs": [],
   "source": [
    "# TODO: Get the third item from the groceries list\n",
    "groceries[ ]"
   ]
  },
  {
   "cell_type": "markdown",
   "metadata": {},
   "source": [
    "Nice job. It's cool to be able to grab a single value from a list at a time, but what if I want to get multiple? This can be achieved using a colon when selecting a value. If we wanted to fetch the first and second value from the groceries list, we could use "
   ]
  },
  {
   "cell_type": "code",
   "execution_count": null,
   "metadata": {},
   "outputs": [],
   "source": [
    "groceries[0:2]"
   ]
  },
  {
   "cell_type": "markdown",
   "metadata": {},
   "source": [
    "Now, that may seem off at first: why would we specify ```0:2``` if we want ther first and the second values? Python slicing with a colon will always grab the first value that you specify, up to (and not including) the last value that you specify. For example, if we wanted to get the second and third values, we could use "
   ]
  },
  {
   "cell_type": "code",
   "execution_count": null,
   "metadata": {},
   "outputs": [],
   "source": [
    "groceries[1:3]"
   ]
  },
  {
   "cell_type": "markdown",
   "metadata": {},
   "source": [
    "Try it yourself with your own shopping list! try getting the second and third values from your list below. "
   ]
  },
  {
   "cell_type": "code",
   "execution_count": null,
   "metadata": {},
   "outputs": [],
   "source": [
    "# TODO: Get the second and third values from your shopping list\n",
    "shopping_list[]"
   ]
  },
  {
   "cell_type": "markdown",
   "metadata": {},
   "source": [
    "Great work! Once last thing that we'll learn is shorthand notation for list indexing. That's a whole lot of fancy words to say getting ranges of values more easily from our list. This is better shown than explained, so here's some examples of how to achieve certain tasks below. For starters, we'll select all values up to the third value in the groceries list. "
   ]
  },
  {
   "cell_type": "code",
   "execution_count": null,
   "metadata": {},
   "outputs": [],
   "source": [
    "groceries[:2]"
   ]
  },
  {
   "cell_type": "markdown",
   "metadata": {},
   "source": [
    "Notice that we don't have to put a zero in front of the colon to achieve this; Python is smart and knows to start at zero. What if we wanted to select all values after the second value? "
   ]
  },
  {
   "cell_type": "code",
   "execution_count": null,
   "metadata": {},
   "outputs": [],
   "source": [
    "groceries[1:]"
   ]
  },
  {
   "cell_type": "markdown",
   "metadata": {},
   "source": [
    "Sick! Now, try it yourself with your shopping list."
   ]
  },
  {
   "cell_type": "code",
   "execution_count": null,
   "metadata": {},
   "outputs": [],
   "source": [
    "# TODO: Select all values up to the fourth value in your shopping list \n",
    "shopping_list[]"
   ]
  },
  {
   "cell_type": "code",
   "execution_count": null,
   "metadata": {},
   "outputs": [],
   "source": [
    "# TODO: Select all values after the first value in your shopping list\n",
    "shopping_list[]"
   ]
  },
  {
   "cell_type": "markdown",
   "metadata": {},
   "source": [
    "## Looping through Iterables\n",
    "The last thing we'll learn about today are **iterables** and **loops**. Conveniently, we've already learned about one of the most common iterables in Python: a list! An iterable is simply something that can be iterated over. Wow, hat was an awful definition. Here's a better one: an iterable is something that we can loop through to check out each of the values within it. We can achieve this with a **for loop**. Say we wanted to print out each item in the grocery list individually. We could do so as below"
   ]
  },
  {
   "cell_type": "code",
   "execution_count": null,
   "metadata": {},
   "outputs": [],
   "source": [
    "for grocery in groceries:\n",
    "    print(grocery)"
   ]
  },
  {
   "cell_type": "markdown",
   "metadata": {},
   "source": [
    "Notice how when we make the for loop, we created a new variable *grocery* that stores the value for a particular grocery within our groceries list. This variable can have any name you want it to, like this:"
   ]
  },
  {
   "cell_type": "code",
   "execution_count": null,
   "metadata": {},
   "outputs": [],
   "source": [
    "for pet in groceries:\n",
    "    print(pet)"
   ]
  },
  {
   "cell_type": "markdown",
   "metadata": {},
   "source": [
    "That doesn't make much sense, but it nonetheless works. Moral of the story: stick to naming your variables in ways that best describe your data. Now let's make a list of numbers from one to four"
   ]
  },
  {
   "cell_type": "code",
   "execution_count": null,
   "metadata": {},
   "outputs": [],
   "source": [
    "numbers = [1,2,3,4]"
   ]
  },
  {
   "cell_type": "markdown",
   "metadata": {},
   "source": [
    "Let's try adding the number two to each number in the list, and then printing that sum. We can do that using the code below"
   ]
  },
  {
   "cell_type": "code",
   "execution_count": null,
   "metadata": {},
   "outputs": [],
   "source": [
    "for number in numbers:\n",
    "    print(number + 2)"
   ]
  },
  {
   "cell_type": "markdown",
   "metadata": {},
   "source": [
    "It's lit! Try out for loops yourself with the code below"
   ]
  },
  {
   "cell_type": "code",
   "execution_count": null,
   "metadata": {},
   "outputs": [],
   "source": [
    "## TODO: Multiply each value in the numbers list by four, and then print the number\n"
   ]
  },
  {
   "cell_type": "code",
   "execution_count": null,
   "metadata": {},
   "outputs": [],
   "source": [
    "## TODO: Raise each number in the numbers list to the third power, and then print the number\n"
   ]
  },
  {
   "cell_type": "code",
   "execution_count": null,
   "metadata": {},
   "outputs": [],
   "source": [
    "## CHALLENGE: Print each item in the groceries list, as well as \" is delicious\"\n"
   ]
  },
  {
   "cell_type": "markdown",
   "metadata": {},
   "source": [
    "## Practice\n",
    "That's it for this week's lesson! Now, to make sure that you understand what we learned today, be sure to complete the below notebooks. "
   ]
  },
  {
   "cell_type": "markdown",
   "metadata": {},
   "source": [
    "First thing's first, we can use order of operations within Jupyter Notebook environments. Remember PEMDAS? It works like a charm in Jupyter and Python! Say we wanted to calculate \n",
    "$$(2 * 5 + 3)^2 $$\n",
    "We could do so with"
   ]
  },
  {
   "cell_type": "code",
   "execution_count": null,
   "metadata": {},
   "outputs": [],
   "source": [
    "(2 * 5 + 3)**2"
   ]
  },
  {
   "cell_type": "markdown",
   "metadata": {},
   "source": [
    "**Question One:** Calculate $ (\\frac{1}{2} - 2 * 8)^5 $"
   ]
  },
  {
   "cell_type": "code",
   "execution_count": null,
   "metadata": {},
   "outputs": [],
   "source": [
    "## TODO: Calculate the value\n"
   ]
  },
  {
   "cell_type": "markdown",
   "metadata": {},
   "source": [
    "Good job. Let's move onto strings and variables now. If we want to **concatenate**, or combine two strings, we can simply add them! For example, if we were to create \"Hello World\" from \"Hello\" and \"World\", we could do"
   ]
  },
  {
   "cell_type": "code",
   "execution_count": null,
   "metadata": {},
   "outputs": [],
   "source": [
    "print(\"Hello\" + \" \" + \"World\")"
   ]
  },
  {
   "cell_type": "markdown",
   "metadata": {},
   "source": [
    "Make sure to note that I added a \" \" so that we didn't end up with \"HelloWorld\". Now,try it out yourself. "
   ]
  },
  {
   "cell_type": "markdown",
   "metadata": {},
   "source": [
    "**Question Two:** You have three variables (I, Love, Data, and Science). Each represents a string. Combine them all into a phrase, assigning that phrase to a variable, and then printing out that phrase. "
   ]
  },
  {
   "cell_type": "code",
   "execution_count": null,
   "metadata": {},
   "outputs": [],
   "source": [
    "# TODO: Create the phrase, assign it to a variable, and then print the variable\n",
    "I = \"I\"\n",
    "Love = \"Love\"\n",
    "Data = \"Data\" \n",
    "Science = \"Science\" \n"
   ]
  },
  {
   "cell_type": "markdown",
   "metadata": {},
   "source": [
    "**Question Three:** Create a string that says \"Hello\", repeated three times (\"HelloHelloHello\").  **TIP:** You can also multipy strings by numbers in Python"
   ]
  },
  {
   "cell_type": "code",
   "execution_count": null,
   "metadata": {},
   "outputs": [],
   "source": [
    "# TODO: Create and repeat the string three times\n",
    "\n"
   ]
  },
  {
   "cell_type": "markdown",
   "metadata": {},
   "source": [
    "Now to practice working with lists. Below is some fancy code for creating a super long list. With this list, we'll practice indexing"
   ]
  },
  {
   "cell_type": "code",
   "execution_count": null,
   "metadata": {},
   "outputs": [],
   "source": [
    "super_long_list = [i for i in range(123457)]"
   ]
  },
  {
   "cell_type": "markdown",
   "metadata": {},
   "source": [
    "**Question Four:** Get the requested values from the list"
   ]
  },
  {
   "cell_type": "code",
   "execution_count": null,
   "metadata": {},
   "outputs": [],
   "source": [
    "# TODO: Get the second value from the list\n"
   ]
  },
  {
   "cell_type": "code",
   "execution_count": null,
   "metadata": {},
   "outputs": [],
   "source": [
    "# TODO: Get the first five values from the list\n"
   ]
  },
  {
   "cell_type": "code",
   "execution_count": null,
   "metadata": {},
   "outputs": [],
   "source": [
    "# TODO: Get the last value from the list \n"
   ]
  },
  {
   "cell_type": "code",
   "execution_count": null,
   "metadata": {},
   "outputs": [],
   "source": [
    "# TODO: Get the last fourteen values from the list \n"
   ]
  },
  {
   "cell_type": "markdown",
   "metadata": {},
   "source": [
    "You're going ham! Last but not least, we'll practice working with iterables and for loops. For this, we'll stick to working with the super long list we created in the last problem."
   ]
  },
  {
   "cell_type": "markdown",
   "metadata": {},
   "source": [
    "**Question Five:** Print every value in the super long list. **Note** your code will likely take a few seconds to run. "
   ]
  },
  {
   "cell_type": "code",
   "execution_count": null,
   "metadata": {},
   "outputs": [],
   "source": [
    "# TODO: Print every value in the list\n"
   ]
  },
  {
   "cell_type": "markdown",
   "metadata": {},
   "source": [
    "**Question Six:** Print the last twenty values from the list, using a for loop."
   ]
  },
  {
   "cell_type": "code",
   "execution_count": null,
   "metadata": {},
   "outputs": [],
   "source": [
    "# TODO: Print the last twenty values from the list\n"
   ]
  },
  {
   "cell_type": "markdown",
   "metadata": {},
   "source": [
    "### Challenge Question\n",
    "Now, time for our last question today. This one will be pretty hard, so major props to you if you can figure it out. This question is multistep, and it will prove that you've mastered the content we learned today. Just remember: it's not cheating if you Google how to achieve some of the steps in this question.\n",
    "\n",
    "First, get the values 100 through 150 from the super long list and store them in a new list.  \n",
    "\n",
    "Then, square each of these values and then divide that value by two. After you've calculated this new value, add it to the list called *cubed_over_two*. To achieve this, you'll likely have to use a for loop, as well as a **method** called **.append** (more on methods next lesson.) **.append** works like this: if we have a list such as \n",
    "`my_list = [1,2,3,4]`, and we run `my_list.append(5)`, *my_list* is now `[1,2,3,4,5]`\n",
    "\n",
    "Finally, print the last three numbers from this new array. Best of luck!"
   ]
  },
  {
   "cell_type": "code",
   "execution_count": null,
   "metadata": {},
   "outputs": [],
   "source": [
    "# TODO: Get values 100 through 150\n",
    "values = \n",
    "\n",
    "# TODO: Square each value and divide it by two\n",
    "\n",
    "# TODO: Print the last three numbers from the array"
   ]
  }
 ],
 "metadata": {
  "kernelspec": {
   "display_name": "Python 3",
   "language": "python",
   "name": "python3"
  },
  "language_info": {
   "codemirror_mode": {
    "name": "ipython",
    "version": 3
   },
   "file_extension": ".py",
   "mimetype": "text/x-python",
   "name": "python",
   "nbconvert_exporter": "python",
   "pygments_lexer": "ipython3",
   "version": "3.8.3"
  }
 },
 "nbformat": 4,
 "nbformat_minor": 4
}
